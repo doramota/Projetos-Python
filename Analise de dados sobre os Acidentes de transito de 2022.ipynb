{
  "cells": [
    {
      "cell_type": "markdown",
      "metadata": {
        "id": "eofk6MZBB58O"
      },
      "source": [
        "# **Análise de dados sobre os Acidentes de trânsito de 2022**"
      ]
    },
    {
      "cell_type": "markdown",
      "metadata": {
        "id": "M_WIZ_payOEk"
      },
      "source": [
        "## Justificativa da escolha da base/tema"
      ]
    },
    {
      "cell_type": "markdown",
      "metadata": {
        "id": "pZNz4oVOAzNA"
      },
      "source": [
        "A ideia geral do trabalho é realizar uma análise dos acidentes ocorridos em 2022, utilizando dados que incluem informações como data, natureza do acidente, bairro onde ocorreu, tipo de veículos envolvidos (automóveis, motocicletas, pedestres), condições climáticas no momento do acidente, situação dos semáforos, sinalizações de trânsito, condições da via, velocidade máxima permitida na via e pontos de controle.\n",
        "\n",
        "A análise dos dados será conduzida utilizando a linguagem de programação Python e as bibliotecas numpy, pandas, matplotlib.pyplot e seaborn.\n",
        "\n",
        "Essa análise tem como resultado um potencial impacto significativo na segurança viária e pode beneficiar diversas partes interessadas na busca por estradas mais seguras e eficazes. Trazendo informações a comunidade sobre áreas de risco e fornecer dados valiosos para pesquisadores e acadêmicos"
      ]
    },
    {
      "cell_type": "markdown",
      "metadata": {
        "id": "-jGFrS2eyqTz"
      },
      "source": [
        "## Análise Exploratória"
      ]
    },
    {
      "cell_type": "markdown",
      "metadata": {
        "id": "F6CizEmLyZly"
      },
      "source": [
        "### Importando a base, as bibliotecas que serão utilizadas e vendo um panorâma inicial dos dados"
      ]
    },
    {
      "cell_type": "code",
      "execution_count": null,
      "metadata": {
        "id": "jSZFDnPcdun5"
      },
      "outputs": [],
      "source": [
        "import numpy as np\n",
        "import pandas as pd\n",
        "import matplotlib.pyplot as plt\n",
        "import seaborn as sns"
      ]
    },
    {
      "cell_type": "code",
      "execution_count": null,
      "metadata": {
        "id": "KbOQ7uPadzLK"
      },
      "outputs": [],
      "source": [
        "# Realizando a importação da base\n",
        "dados = pd.read_csv('https://raw.githubusercontent.com/thiagobrit0/DataScience/main/acidentes2022.2.csv', sep=';')"
      ]
    },
    {
      "cell_type": "code",
      "execution_count": null,
      "metadata": {
        "colab": {
          "base_uri": "https://localhost:8080/",
          "height": 394
        },
        "id": "KZwQdPtxd7EN",
        "outputId": "0fa903fc-e39d-4bd1-f94e-0f2fd6e7dd05"
      },
      "outputs": [
        {
          "data": {
            "text/html": [
              "\n",
              "  <div id=\"df-019fda9a-ff7c-45ac-9a10-b42f2a7fe152\" class=\"colab-df-container\">\n",
              "    <div>\n",
              "<style scoped>\n",
              "    .dataframe tbody tr th:only-of-type {\n",
              "        vertical-align: middle;\n",
              "    }\n",
              "\n",
              "    .dataframe tbody tr th {\n",
              "        vertical-align: top;\n",
              "    }\n",
              "\n",
              "    .dataframe thead th {\n",
              "        text-align: right;\n",
              "    }\n",
              "</style>\n",
              "<table border=\"1\" class=\"dataframe\">\n",
              "  <thead>\n",
              "    <tr style=\"text-align: right;\">\n",
              "      <th></th>\n",
              "      <th>Protocolo</th>\n",
              "      <th>data</th>\n",
              "      <th>hora</th>\n",
              "      <th>natureza</th>\n",
              "      <th>situacao</th>\n",
              "      <th>bairro</th>\n",
              "      <th>endereco</th>\n",
              "      <th>numero</th>\n",
              "      <th>detalhe_endereco_acidente</th>\n",
              "      <th>bairro_cruzamento</th>\n",
              "      <th>...</th>\n",
              "      <th>sinalizacao</th>\n",
              "      <th>condicao_via</th>\n",
              "      <th>conservacao_via</th>\n",
              "      <th>ponto_controle</th>\n",
              "      <th>situacao_placa</th>\n",
              "      <th>velocidade_max_via</th>\n",
              "      <th>mao_direcao</th>\n",
              "      <th>divisao_via1</th>\n",
              "      <th>divisao_via2</th>\n",
              "      <th>divisao_via3</th>\n",
              "    </tr>\n",
              "  </thead>\n",
              "  <tbody>\n",
              "    <tr>\n",
              "      <th>0</th>\n",
              "      <td>202200001</td>\n",
              "      <td>01/01/2022</td>\n",
              "      <td>NaN</td>\n",
              "      <td>COM VÍTIMA</td>\n",
              "      <td>FINALIZADA</td>\n",
              "      <td>JORDÃO</td>\n",
              "      <td>AV MARIA IRENE</td>\n",
              "      <td>130</td>\n",
              "      <td>NaN</td>\n",
              "      <td>JORDÃO</td>\n",
              "      <td>...</td>\n",
              "      <td>Não existente</td>\n",
              "      <td>Seca</td>\n",
              "      <td>Perfeito estado</td>\n",
              "      <td>Não existe</td>\n",
              "      <td>Não há placas</td>\n",
              "      <td>NaN</td>\n",
              "      <td>Dupla</td>\n",
              "      <td>Não existe</td>\n",
              "      <td>NaN</td>\n",
              "      <td>NaN</td>\n",
              "    </tr>\n",
              "    <tr>\n",
              "      <th>1</th>\n",
              "      <td>202200007</td>\n",
              "      <td>01/01/2022</td>\n",
              "      <td>NaN</td>\n",
              "      <td>SEM VÍTIMA</td>\n",
              "      <td>FINALIZADA</td>\n",
              "      <td>IMBIRIBEIRA</td>\n",
              "      <td>AV MARECHAL MASCARENHAS DE MORAES</td>\n",
              "      <td>NaN</td>\n",
              "      <td>NaN</td>\n",
              "      <td>IMBIRIBEIRA</td>\n",
              "      <td>...</td>\n",
              "      <td>Perfeito estado</td>\n",
              "      <td>Seca</td>\n",
              "      <td>Perfeito estado</td>\n",
              "      <td>Faixa de pedestre</td>\n",
              "      <td>Não há placas</td>\n",
              "      <td>NaN</td>\n",
              "      <td>Dupla</td>\n",
              "      <td>Canteiro central</td>\n",
              "      <td>NaN</td>\n",
              "      <td>NaN</td>\n",
              "    </tr>\n",
              "    <tr>\n",
              "      <th>2</th>\n",
              "      <td>202200025</td>\n",
              "      <td>01/01/2022</td>\n",
              "      <td>NaN</td>\n",
              "      <td>COM VÍTIMA</td>\n",
              "      <td>CANCELADA</td>\n",
              "      <td>CAXANGÁ</td>\n",
              "      <td>AV CAXANGA</td>\n",
              "      <td>NaN</td>\n",
              "      <td>NaN</td>\n",
              "      <td>CAXANGÁ</td>\n",
              "      <td>...</td>\n",
              "      <td>NaN</td>\n",
              "      <td>NaN</td>\n",
              "      <td>NaN</td>\n",
              "      <td>NaN</td>\n",
              "      <td>NaN</td>\n",
              "      <td>NaN</td>\n",
              "      <td>NaN</td>\n",
              "      <td>NaN</td>\n",
              "      <td>NaN</td>\n",
              "      <td>NaN</td>\n",
              "    </tr>\n",
              "    <tr>\n",
              "      <th>3</th>\n",
              "      <td>202200029</td>\n",
              "      <td>01/01/2022</td>\n",
              "      <td>NaN</td>\n",
              "      <td>COM VÍTIMA</td>\n",
              "      <td>CANCELADA</td>\n",
              "      <td>JOANA BEZERRA</td>\n",
              "      <td>AV GOVERNADOR AGAMENON MAGALHAES</td>\n",
              "      <td>NaN</td>\n",
              "      <td>NaN</td>\n",
              "      <td>JOANA BEZERRA</td>\n",
              "      <td>...</td>\n",
              "      <td>NaN</td>\n",
              "      <td>NaN</td>\n",
              "      <td>NaN</td>\n",
              "      <td>NaN</td>\n",
              "      <td>NaN</td>\n",
              "      <td>NaN</td>\n",
              "      <td>NaN</td>\n",
              "      <td>NaN</td>\n",
              "      <td>NaN</td>\n",
              "      <td>NaN</td>\n",
              "    </tr>\n",
              "    <tr>\n",
              "      <th>4</th>\n",
              "      <td>202200082</td>\n",
              "      <td>02/01/2022</td>\n",
              "      <td>NaN</td>\n",
              "      <td>COM VÍTIMA</td>\n",
              "      <td>FINALIZADA</td>\n",
              "      <td>AFLITOS</td>\n",
              "      <td>RUA MANUEL DE CARVALHO</td>\n",
              "      <td>432</td>\n",
              "      <td>RUA CARNEIRO VILELA</td>\n",
              "      <td>AFLITOS</td>\n",
              "      <td>...</td>\n",
              "      <td>Perfeito estado</td>\n",
              "      <td>Seca</td>\n",
              "      <td>Perfeito estado</td>\n",
              "      <td>NaN</td>\n",
              "      <td>Placas \"Pare\"</td>\n",
              "      <td>NaN</td>\n",
              "      <td>Única</td>\n",
              "      <td>Faixa contínua</td>\n",
              "      <td>NaN</td>\n",
              "      <td>NaN</td>\n",
              "    </tr>\n",
              "  </tbody>\n",
              "</table>\n",
              "<p>5 rows × 37 columns</p>\n",
              "</div>\n",
              "    <div class=\"colab-df-buttons\">\n",
              "\n",
              "  <div class=\"colab-df-container\">\n",
              "    <button class=\"colab-df-convert\" onclick=\"convertToInteractive('df-019fda9a-ff7c-45ac-9a10-b42f2a7fe152')\"\n",
              "            title=\"Convert this dataframe to an interactive table.\"\n",
              "            style=\"display:none;\">\n",
              "\n",
              "  <svg xmlns=\"http://www.w3.org/2000/svg\" height=\"24px\" viewBox=\"0 -960 960 960\">\n",
              "    <path d=\"M120-120v-720h720v720H120Zm60-500h600v-160H180v160Zm220 220h160v-160H400v160Zm0 220h160v-160H400v160ZM180-400h160v-160H180v160Zm440 0h160v-160H620v160ZM180-180h160v-160H180v160Zm440 0h160v-160H620v160Z\"/>\n",
              "  </svg>\n",
              "    </button>\n",
              "\n",
              "  <style>\n",
              "    .colab-df-container {\n",
              "      display:flex;\n",
              "      gap: 12px;\n",
              "    }\n",
              "\n",
              "    .colab-df-convert {\n",
              "      background-color: #E8F0FE;\n",
              "      border: none;\n",
              "      border-radius: 50%;\n",
              "      cursor: pointer;\n",
              "      display: none;\n",
              "      fill: #1967D2;\n",
              "      height: 32px;\n",
              "      padding: 0 0 0 0;\n",
              "      width: 32px;\n",
              "    }\n",
              "\n",
              "    .colab-df-convert:hover {\n",
              "      background-color: #E2EBFA;\n",
              "      box-shadow: 0px 1px 2px rgba(60, 64, 67, 0.3), 0px 1px 3px 1px rgba(60, 64, 67, 0.15);\n",
              "      fill: #174EA6;\n",
              "    }\n",
              "\n",
              "    .colab-df-buttons div {\n",
              "      margin-bottom: 4px;\n",
              "    }\n",
              "\n",
              "    [theme=dark] .colab-df-convert {\n",
              "      background-color: #3B4455;\n",
              "      fill: #D2E3FC;\n",
              "    }\n",
              "\n",
              "    [theme=dark] .colab-df-convert:hover {\n",
              "      background-color: #434B5C;\n",
              "      box-shadow: 0px 1px 3px 1px rgba(0, 0, 0, 0.15);\n",
              "      filter: drop-shadow(0px 1px 2px rgba(0, 0, 0, 0.3));\n",
              "      fill: #FFFFFF;\n",
              "    }\n",
              "  </style>\n",
              "\n",
              "    <script>\n",
              "      const buttonEl =\n",
              "        document.querySelector('#df-019fda9a-ff7c-45ac-9a10-b42f2a7fe152 button.colab-df-convert');\n",
              "      buttonEl.style.display =\n",
              "        google.colab.kernel.accessAllowed ? 'block' : 'none';\n",
              "\n",
              "      async function convertToInteractive(key) {\n",
              "        const element = document.querySelector('#df-019fda9a-ff7c-45ac-9a10-b42f2a7fe152');\n",
              "        const dataTable =\n",
              "          await google.colab.kernel.invokeFunction('convertToInteractive',\n",
              "                                                    [key], {});\n",
              "        if (!dataTable) return;\n",
              "\n",
              "        const docLinkHtml = 'Like what you see? Visit the ' +\n",
              "          '<a target=\"_blank\" href=https://colab.research.google.com/notebooks/data_table.ipynb>data table notebook</a>'\n",
              "          + ' to learn more about interactive tables.';\n",
              "        element.innerHTML = '';\n",
              "        dataTable['output_type'] = 'display_data';\n",
              "        await google.colab.output.renderOutput(dataTable, element);\n",
              "        const docLink = document.createElement('div');\n",
              "        docLink.innerHTML = docLinkHtml;\n",
              "        element.appendChild(docLink);\n",
              "      }\n",
              "    </script>\n",
              "  </div>\n",
              "\n",
              "\n",
              "<div id=\"df-f78155bf-87b4-43bf-b469-92a441279d54\">\n",
              "  <button class=\"colab-df-quickchart\" onclick=\"quickchart('df-f78155bf-87b4-43bf-b469-92a441279d54')\"\n",
              "            title=\"Suggest charts.\"\n",
              "            style=\"display:none;\">\n",
              "\n",
              "<svg xmlns=\"http://www.w3.org/2000/svg\" height=\"24px\"viewBox=\"0 0 24 24\"\n",
              "     width=\"24px\">\n",
              "    <g>\n",
              "        <path d=\"M19 3H5c-1.1 0-2 .9-2 2v14c0 1.1.9 2 2 2h14c1.1 0 2-.9 2-2V5c0-1.1-.9-2-2-2zM9 17H7v-7h2v7zm4 0h-2V7h2v10zm4 0h-2v-4h2v4z\"/>\n",
              "    </g>\n",
              "</svg>\n",
              "  </button>\n",
              "\n",
              "<style>\n",
              "  .colab-df-quickchart {\n",
              "      --bg-color: #E8F0FE;\n",
              "      --fill-color: #1967D2;\n",
              "      --hover-bg-color: #E2EBFA;\n",
              "      --hover-fill-color: #174EA6;\n",
              "      --disabled-fill-color: #AAA;\n",
              "      --disabled-bg-color: #DDD;\n",
              "  }\n",
              "\n",
              "  [theme=dark] .colab-df-quickchart {\n",
              "      --bg-color: #3B4455;\n",
              "      --fill-color: #D2E3FC;\n",
              "      --hover-bg-color: #434B5C;\n",
              "      --hover-fill-color: #FFFFFF;\n",
              "      --disabled-bg-color: #3B4455;\n",
              "      --disabled-fill-color: #666;\n",
              "  }\n",
              "\n",
              "  .colab-df-quickchart {\n",
              "    background-color: var(--bg-color);\n",
              "    border: none;\n",
              "    border-radius: 50%;\n",
              "    cursor: pointer;\n",
              "    display: none;\n",
              "    fill: var(--fill-color);\n",
              "    height: 32px;\n",
              "    padding: 0;\n",
              "    width: 32px;\n",
              "  }\n",
              "\n",
              "  .colab-df-quickchart:hover {\n",
              "    background-color: var(--hover-bg-color);\n",
              "    box-shadow: 0 1px 2px rgba(60, 64, 67, 0.3), 0 1px 3px 1px rgba(60, 64, 67, 0.15);\n",
              "    fill: var(--button-hover-fill-color);\n",
              "  }\n",
              "\n",
              "  .colab-df-quickchart-complete:disabled,\n",
              "  .colab-df-quickchart-complete:disabled:hover {\n",
              "    background-color: var(--disabled-bg-color);\n",
              "    fill: var(--disabled-fill-color);\n",
              "    box-shadow: none;\n",
              "  }\n",
              "\n",
              "  .colab-df-spinner {\n",
              "    border: 2px solid var(--fill-color);\n",
              "    border-color: transparent;\n",
              "    border-bottom-color: var(--fill-color);\n",
              "    animation:\n",
              "      spin 1s steps(1) infinite;\n",
              "  }\n",
              "\n",
              "  @keyframes spin {\n",
              "    0% {\n",
              "      border-color: transparent;\n",
              "      border-bottom-color: var(--fill-color);\n",
              "      border-left-color: var(--fill-color);\n",
              "    }\n",
              "    20% {\n",
              "      border-color: transparent;\n",
              "      border-left-color: var(--fill-color);\n",
              "      border-top-color: var(--fill-color);\n",
              "    }\n",
              "    30% {\n",
              "      border-color: transparent;\n",
              "      border-left-color: var(--fill-color);\n",
              "      border-top-color: var(--fill-color);\n",
              "      border-right-color: var(--fill-color);\n",
              "    }\n",
              "    40% {\n",
              "      border-color: transparent;\n",
              "      border-right-color: var(--fill-color);\n",
              "      border-top-color: var(--fill-color);\n",
              "    }\n",
              "    60% {\n",
              "      border-color: transparent;\n",
              "      border-right-color: var(--fill-color);\n",
              "    }\n",
              "    80% {\n",
              "      border-color: transparent;\n",
              "      border-right-color: var(--fill-color);\n",
              "      border-bottom-color: var(--fill-color);\n",
              "    }\n",
              "    90% {\n",
              "      border-color: transparent;\n",
              "      border-bottom-color: var(--fill-color);\n",
              "    }\n",
              "  }\n",
              "</style>\n",
              "\n",
              "  <script>\n",
              "    async function quickchart(key) {\n",
              "      const quickchartButtonEl =\n",
              "        document.querySelector('#' + key + ' button');\n",
              "      quickchartButtonEl.disabled = true;  // To prevent multiple clicks.\n",
              "      quickchartButtonEl.classList.add('colab-df-spinner');\n",
              "      try {\n",
              "        const charts = await google.colab.kernel.invokeFunction(\n",
              "            'suggestCharts', [key], {});\n",
              "      } catch (error) {\n",
              "        console.error('Error during call to suggestCharts:', error);\n",
              "      }\n",
              "      quickchartButtonEl.classList.remove('colab-df-spinner');\n",
              "      quickchartButtonEl.classList.add('colab-df-quickchart-complete');\n",
              "    }\n",
              "    (() => {\n",
              "      let quickchartButtonEl =\n",
              "        document.querySelector('#df-f78155bf-87b4-43bf-b469-92a441279d54 button');\n",
              "      quickchartButtonEl.style.display =\n",
              "        google.colab.kernel.accessAllowed ? 'block' : 'none';\n",
              "    })();\n",
              "  </script>\n",
              "</div>\n",
              "    </div>\n",
              "  </div>\n"
            ],
            "text/plain": [
              "   Protocolo        data  hora    natureza    situacao         bairro  \\\n",
              "0  202200001  01/01/2022   NaN  COM VÍTIMA  FINALIZADA         JORDÃO   \n",
              "1  202200007  01/01/2022   NaN  SEM VÍTIMA  FINALIZADA    IMBIRIBEIRA   \n",
              "2  202200025  01/01/2022   NaN  COM VÍTIMA   CANCELADA        CAXANGÁ   \n",
              "3  202200029  01/01/2022   NaN  COM VÍTIMA   CANCELADA  JOANA BEZERRA   \n",
              "4  202200082  02/01/2022   NaN  COM VÍTIMA  FINALIZADA        AFLITOS   \n",
              "\n",
              "                            endereco numero detalhe_endereco_acidente  \\\n",
              "0                     AV MARIA IRENE    130                       NaN   \n",
              "1  AV MARECHAL MASCARENHAS DE MORAES    NaN                       NaN   \n",
              "2                         AV CAXANGA    NaN                       NaN   \n",
              "3   AV GOVERNADOR AGAMENON MAGALHAES    NaN                       NaN   \n",
              "4             RUA MANUEL DE CARVALHO    432       RUA CARNEIRO VILELA   \n",
              "\n",
              "  bairro_cruzamento  ...      sinalizacao condicao_via  conservacao_via  \\\n",
              "0            JORDÃO  ...    Não existente         Seca  Perfeito estado   \n",
              "1       IMBIRIBEIRA  ...  Perfeito estado         Seca  Perfeito estado   \n",
              "2           CAXANGÁ  ...              NaN          NaN              NaN   \n",
              "3     JOANA BEZERRA  ...              NaN          NaN              NaN   \n",
              "4           AFLITOS  ...  Perfeito estado         Seca  Perfeito estado   \n",
              "\n",
              "      ponto_controle  situacao_placa  velocidade_max_via  mao_direcao  \\\n",
              "0         Não existe   Não há placas                 NaN        Dupla   \n",
              "1  Faixa de pedestre   Não há placas                 NaN        Dupla   \n",
              "2                NaN             NaN                 NaN          NaN   \n",
              "3                NaN             NaN                 NaN          NaN   \n",
              "4                NaN   Placas \"Pare\"                 NaN        Única   \n",
              "\n",
              "       divisao_via1  divisao_via2  divisao_via3  \n",
              "0        Não existe           NaN           NaN  \n",
              "1  Canteiro central           NaN           NaN  \n",
              "2               NaN           NaN           NaN  \n",
              "3               NaN           NaN           NaN  \n",
              "4    Faixa contínua           NaN           NaN  \n",
              "\n",
              "[5 rows x 37 columns]"
            ]
          },
          "execution_count": 9,
          "metadata": {},
          "output_type": "execute_result"
        }
      ],
      "source": [
        "# Visualizando as 5 primeiras linhas da base para vermos uma prévia dos dados\n",
        "dados.head()"
      ]
    },
    {
      "cell_type": "code",
      "execution_count": null,
      "metadata": {
        "colab": {
          "base_uri": "https://localhost:8080/"
        },
        "id": "VM9A8i6pd7ge",
        "outputId": "09fb3ced-11b4-40d7-8b16-32ccffdbe608"
      },
      "outputs": [
        {
          "name": "stdout",
          "output_type": "stream",
          "text": [
            "A base de dados apresenta 2669 linhas e 37 colunas\n"
          ]
        }
      ],
      "source": [
        "# Conhecendo o tamanho da nossa base\n",
        "print(f'A base de dados apresenta {dados.shape[0]} linhas e {dados.shape[1]} colunas')"
      ]
    },
    {
      "cell_type": "code",
      "execution_count": null,
      "metadata": {
        "colab": {
          "base_uri": "https://localhost:8080/"
        },
        "id": "PXLArUsczMIa",
        "outputId": "628ef486-3c6d-4e82-fae8-9bc3c79651eb"
      },
      "outputs": [
        {
          "name": "stdout",
          "output_type": "stream",
          "text": [
            "<class 'pandas.core.frame.DataFrame'>\n",
            "RangeIndex: 2669 entries, 0 to 2668\n",
            "Data columns (total 37 columns):\n",
            " #   Column                     Non-Null Count  Dtype  \n",
            "---  ------                     --------------  -----  \n",
            " 0   Protocolo                  2669 non-null   int64  \n",
            " 1   data                       2669 non-null   object \n",
            " 2   hora                       0 non-null      float64\n",
            " 3   natureza                   2669 non-null   object \n",
            " 4   situacao                   2669 non-null   object \n",
            " 5   bairro                     2659 non-null   object \n",
            " 6   endereco                   2663 non-null   object \n",
            " 7   numero                     1501 non-null   object \n",
            " 8   detalhe_endereco_acidente  1013 non-null   object \n",
            " 9   bairro_cruzamento          2659 non-null   object \n",
            " 10  num_semaforo               631 non-null    float64\n",
            " 11  sentido_via                1552 non-null   object \n",
            " 12  tipo                       2563 non-null   object \n",
            " 13  auto                       2669 non-null   int64  \n",
            " 14  moto                       2669 non-null   int64  \n",
            " 15  ciclom                     2669 non-null   int64  \n",
            " 16  ciclista                   2669 non-null   int64  \n",
            " 17  pedestre                   2669 non-null   int64  \n",
            " 18  onibus                     2669 non-null   int64  \n",
            " 19  caminhao                   2669 non-null   int64  \n",
            " 20  viatura                    2669 non-null   int64  \n",
            " 21  outros                     2669 non-null   int64  \n",
            " 22  vitimas                    2669 non-null   int64  \n",
            " 23  vitimasfatais              2669 non-null   int64  \n",
            " 24  acidente_verificado        2092 non-null   object \n",
            " 25  tempo_clima                2111 non-null   object \n",
            " 26  situacao_semaforo          2090 non-null   object \n",
            " 27  sinalizacao                2079 non-null   object \n",
            " 28  condicao_via               2103 non-null   object \n",
            " 29  conservacao_via            2088 non-null   object \n",
            " 30  ponto_controle             2002 non-null   object \n",
            " 31  situacao_placa             1979 non-null   object \n",
            " 32  velocidade_max_via         767 non-null    object \n",
            " 33  mao_direcao                2059 non-null   object \n",
            " 34  divisao_via1               2026 non-null   object \n",
            " 35  divisao_via2               210 non-null    object \n",
            " 36  divisao_via3               31 non-null     object \n",
            "dtypes: float64(2), int64(12), object(23)\n",
            "memory usage: 771.6+ KB\n"
          ]
        }
      ],
      "source": [
        "# Verificando como estão organizados e quais os seus tipos\n",
        "dados.info()"
      ]
    },
    {
      "cell_type": "code",
      "execution_count": null,
      "metadata": {
        "colab": {
          "base_uri": "https://localhost:8080/"
        },
        "id": "y3iPaSPizjA4",
        "outputId": "b9c569dc-440e-4e43-ec35-a34b91816e68"
      },
      "outputs": [
        {
          "data": {
            "text/plain": [
              "object     23\n",
              "int64      12\n",
              "float64     2\n",
              "dtype: int64"
            ]
          },
          "execution_count": 12,
          "metadata": {},
          "output_type": "execute_result"
        }
      ],
      "source": [
        "# Tipos dos dados existentes em cada coluna\n",
        "dados.dtypes.value_counts()"
      ]
    },
    {
      "cell_type": "code",
      "execution_count": null,
      "metadata": {
        "colab": {
          "base_uri": "https://localhost:8080/"
        },
        "id": "TjO0_0UEeANl",
        "outputId": "83bfbf8b-059c-4674-bc19-47daae9e987f"
      },
      "outputs": [
        {
          "data": {
            "text/plain": [
              "['Protocolo',\n",
              " 'data',\n",
              " 'hora',\n",
              " 'natureza',\n",
              " 'situacao',\n",
              " 'bairro',\n",
              " 'endereco',\n",
              " 'numero',\n",
              " 'detalhe_endereco_acidente',\n",
              " 'bairro_cruzamento',\n",
              " 'num_semaforo',\n",
              " 'sentido_via',\n",
              " 'tipo',\n",
              " 'auto',\n",
              " 'moto',\n",
              " 'ciclom',\n",
              " 'ciclista',\n",
              " 'pedestre',\n",
              " 'onibus',\n",
              " 'caminhao',\n",
              " 'viatura',\n",
              " 'outros',\n",
              " 'vitimas',\n",
              " 'vitimasfatais',\n",
              " 'acidente_verificado',\n",
              " 'tempo_clima',\n",
              " 'situacao_semaforo',\n",
              " 'sinalizacao',\n",
              " 'condicao_via',\n",
              " 'conservacao_via',\n",
              " 'ponto_controle',\n",
              " 'situacao_placa',\n",
              " 'velocidade_max_via',\n",
              " 'mao_direcao',\n",
              " 'divisao_via1',\n",
              " 'divisao_via2',\n",
              " 'divisao_via3']"
            ]
          },
          "execution_count": 13,
          "metadata": {},
          "output_type": "execute_result"
        }
      ],
      "source": [
        "# Listando todas as colunas\n",
        "dados.columns.to_list()"
      ]
    },
    {
      "cell_type": "code",
      "execution_count": null,
      "metadata": {
        "id": "FOPLh2cneAhu"
      },
      "outputs": [],
      "source": [
        "# Criando um dataframe reserva caso aconteça algum imprevisto com o que estivermos trablhando\n",
        "dados_reserva = dados.copy()"
      ]
    },
    {
      "cell_type": "code",
      "execution_count": null,
      "metadata": {
        "colab": {
          "base_uri": "https://localhost:8080/"
        },
        "id": "afxi0VzueCw2",
        "outputId": "c10d744c-fa94-44ce-f798-204d26217252"
      },
      "outputs": [
        {
          "data": {
            "text/plain": [
              "Protocolo                       0\n",
              "data                            0\n",
              "hora                         2669\n",
              "natureza                        0\n",
              "situacao                        0\n",
              "bairro                         10\n",
              "endereco                        6\n",
              "numero                       1168\n",
              "detalhe_endereco_acidente    1656\n",
              "bairro_cruzamento              10\n",
              "num_semaforo                 2038\n",
              "sentido_via                  1117\n",
              "tipo                          106\n",
              "auto                            0\n",
              "moto                            0\n",
              "ciclom                          0\n",
              "ciclista                        0\n",
              "pedestre                        0\n",
              "onibus                          0\n",
              "caminhao                        0\n",
              "viatura                         0\n",
              "outros                          0\n",
              "vitimas                         0\n",
              "vitimasfatais                   0\n",
              "acidente_verificado           577\n",
              "tempo_clima                   558\n",
              "situacao_semaforo             579\n",
              "sinalizacao                   590\n",
              "condicao_via                  566\n",
              "conservacao_via               581\n",
              "ponto_controle                667\n",
              "situacao_placa                690\n",
              "velocidade_max_via           1902\n",
              "mao_direcao                   610\n",
              "divisao_via1                  643\n",
              "divisao_via2                 2459\n",
              "divisao_via3                 2638\n",
              "dtype: int64"
            ]
          },
          "execution_count": 15,
          "metadata": {},
          "output_type": "execute_result"
        }
      ],
      "source": [
        "# Verificando a quantidade de valores nulos por coluna\n",
        "dados.isna().sum()"
      ]
    },
    {
      "cell_type": "code",
      "execution_count": null,
      "metadata": {
        "colab": {
          "base_uri": "https://localhost:8080/"
        },
        "id": "RXq0AwKBeEHd",
        "outputId": "cdced714-bca0-4ec3-ec71-631ca010d684"
      },
      "outputs": [
        {
          "data": {
            "text/plain": [
              "21840"
            ]
          },
          "execution_count": 16,
          "metadata": {},
          "output_type": "execute_result"
        }
      ],
      "source": [
        "# Verificando a quantidade total de valores nulos no dataset\n",
        "dados.isna().sum().sum()"
      ]
    },
    {
      "cell_type": "markdown",
      "metadata": {
        "id": "zxusoAw2z8Xd"
      },
      "source": [
        "### Criando um novo DataFrame apenas com as colunas que iremos utilizar na análise"
      ]
    },
    {
      "cell_type": "code",
      "execution_count": null,
      "metadata": {
        "id": "d9A6OhGleL89"
      },
      "outputs": [],
      "source": [
        "#agora iremos criar um dataframe apenas com a colunas que queremos analisar\n",
        "dados_util = dados[['data', 'natureza', 'bairro', 'tipo', 'auto', 'moto', 'pedestre', 'tempo_clima', 'situacao_semaforo', 'sinalizacao', 'condicao_via', 'velocidade_max_via', 'ponto_controle']]"
      ]
    },
    {
      "cell_type": "code",
      "execution_count": null,
      "metadata": {
        "colab": {
          "base_uri": "https://localhost:8080/"
        },
        "id": "Z-qbeiNe0U9b",
        "outputId": "6830a835-86fe-4132-95dc-870a8bed14d0"
      },
      "outputs": [
        {
          "name": "stdout",
          "output_type": "stream",
          "text": [
            "A base de dados apresenta 2669 linhas e 13 colunas\n"
          ]
        }
      ],
      "source": [
        "# Conhecendo o tamanho da nossa base\n",
        "print(f'A base de dados apresenta {dados_util.shape[0]} linhas e {dados_util.shape[1]} colunas')"
      ]
    },
    {
      "cell_type": "code",
      "execution_count": null,
      "metadata": {
        "colab": {
          "base_uri": "https://localhost:8080/",
          "height": 313
        },
        "id": "bF-CunuA0NzK",
        "outputId": "a5049e1f-d91e-4996-960d-94c88e47c22f"
      },
      "outputs": [
        {
          "data": {
            "text/html": [
              "\n",
              "  <div id=\"df-8a5bcb37-73ec-444b-9bb7-13491d5fe066\" class=\"colab-df-container\">\n",
              "    <div>\n",
              "<style scoped>\n",
              "    .dataframe tbody tr th:only-of-type {\n",
              "        vertical-align: middle;\n",
              "    }\n",
              "\n",
              "    .dataframe tbody tr th {\n",
              "        vertical-align: top;\n",
              "    }\n",
              "\n",
              "    .dataframe thead th {\n",
              "        text-align: right;\n",
              "    }\n",
              "</style>\n",
              "<table border=\"1\" class=\"dataframe\">\n",
              "  <thead>\n",
              "    <tr style=\"text-align: right;\">\n",
              "      <th></th>\n",
              "      <th>data</th>\n",
              "      <th>natureza</th>\n",
              "      <th>bairro</th>\n",
              "      <th>tipo</th>\n",
              "      <th>auto</th>\n",
              "      <th>moto</th>\n",
              "      <th>pedestre</th>\n",
              "      <th>tempo_clima</th>\n",
              "      <th>situacao_semaforo</th>\n",
              "      <th>sinalizacao</th>\n",
              "      <th>condicao_via</th>\n",
              "      <th>velocidade_max_via</th>\n",
              "      <th>ponto_controle</th>\n",
              "    </tr>\n",
              "  </thead>\n",
              "  <tbody>\n",
              "    <tr>\n",
              "      <th>0</th>\n",
              "      <td>01/01/2022</td>\n",
              "      <td>COM VÍTIMA</td>\n",
              "      <td>JORDÃO</td>\n",
              "      <td>COLISÃO FRONTAL</td>\n",
              "      <td>1</td>\n",
              "      <td>1</td>\n",
              "      <td>0</td>\n",
              "      <td>Bom</td>\n",
              "      <td>Não existe</td>\n",
              "      <td>Não existente</td>\n",
              "      <td>Seca</td>\n",
              "      <td>NaN</td>\n",
              "      <td>Não existe</td>\n",
              "    </tr>\n",
              "    <tr>\n",
              "      <th>1</th>\n",
              "      <td>01/01/2022</td>\n",
              "      <td>SEM VÍTIMA</td>\n",
              "      <td>IMBIRIBEIRA</td>\n",
              "      <td>COLISÃO TRASEIRA</td>\n",
              "      <td>2</td>\n",
              "      <td>0</td>\n",
              "      <td>0</td>\n",
              "      <td>Bom</td>\n",
              "      <td>Sem defeito</td>\n",
              "      <td>Perfeito estado</td>\n",
              "      <td>Seca</td>\n",
              "      <td>NaN</td>\n",
              "      <td>Faixa de pedestre</td>\n",
              "    </tr>\n",
              "    <tr>\n",
              "      <th>2</th>\n",
              "      <td>01/01/2022</td>\n",
              "      <td>COM VÍTIMA</td>\n",
              "      <td>CAXANGÁ</td>\n",
              "      <td>COLISÃO TRASEIRA</td>\n",
              "      <td>1</td>\n",
              "      <td>1</td>\n",
              "      <td>0</td>\n",
              "      <td>NaN</td>\n",
              "      <td>NaN</td>\n",
              "      <td>NaN</td>\n",
              "      <td>NaN</td>\n",
              "      <td>NaN</td>\n",
              "      <td>NaN</td>\n",
              "    </tr>\n",
              "    <tr>\n",
              "      <th>3</th>\n",
              "      <td>01/01/2022</td>\n",
              "      <td>COM VÍTIMA</td>\n",
              "      <td>JOANA BEZERRA</td>\n",
              "      <td>COLISÃO LATERAL</td>\n",
              "      <td>1</td>\n",
              "      <td>1</td>\n",
              "      <td>0</td>\n",
              "      <td>NaN</td>\n",
              "      <td>NaN</td>\n",
              "      <td>NaN</td>\n",
              "      <td>NaN</td>\n",
              "      <td>NaN</td>\n",
              "      <td>NaN</td>\n",
              "    </tr>\n",
              "    <tr>\n",
              "      <th>4</th>\n",
              "      <td>02/01/2022</td>\n",
              "      <td>COM VÍTIMA</td>\n",
              "      <td>AFLITOS</td>\n",
              "      <td>COLISÃO LATERAL</td>\n",
              "      <td>1</td>\n",
              "      <td>1</td>\n",
              "      <td>0</td>\n",
              "      <td>Bom</td>\n",
              "      <td>Não existe</td>\n",
              "      <td>Perfeito estado</td>\n",
              "      <td>Seca</td>\n",
              "      <td>NaN</td>\n",
              "      <td>NaN</td>\n",
              "    </tr>\n",
              "  </tbody>\n",
              "</table>\n",
              "</div>\n",
              "    <div class=\"colab-df-buttons\">\n",
              "\n",
              "  <div class=\"colab-df-container\">\n",
              "    <button class=\"colab-df-convert\" onclick=\"convertToInteractive('df-8a5bcb37-73ec-444b-9bb7-13491d5fe066')\"\n",
              "            title=\"Convert this dataframe to an interactive table.\"\n",
              "            style=\"display:none;\">\n",
              "\n",
              "  <svg xmlns=\"http://www.w3.org/2000/svg\" height=\"24px\" viewBox=\"0 -960 960 960\">\n",
              "    <path d=\"M120-120v-720h720v720H120Zm60-500h600v-160H180v160Zm220 220h160v-160H400v160Zm0 220h160v-160H400v160ZM180-400h160v-160H180v160Zm440 0h160v-160H620v160ZM180-180h160v-160H180v160Zm440 0h160v-160H620v160Z\"/>\n",
              "  </svg>\n",
              "    </button>\n",
              "\n",
              "  <style>\n",
              "    .colab-df-container {\n",
              "      display:flex;\n",
              "      gap: 12px;\n",
              "    }\n",
              "\n",
              "    .colab-df-convert {\n",
              "      background-color: #E8F0FE;\n",
              "      border: none;\n",
              "      border-radius: 50%;\n",
              "      cursor: pointer;\n",
              "      display: none;\n",
              "      fill: #1967D2;\n",
              "      height: 32px;\n",
              "      padding: 0 0 0 0;\n",
              "      width: 32px;\n",
              "    }\n",
              "\n",
              "    .colab-df-convert:hover {\n",
              "      background-color: #E2EBFA;\n",
              "      box-shadow: 0px 1px 2px rgba(60, 64, 67, 0.3), 0px 1px 3px 1px rgba(60, 64, 67, 0.15);\n",
              "      fill: #174EA6;\n",
              "    }\n",
              "\n",
              "    .colab-df-buttons div {\n",
              "      margin-bottom: 4px;\n",
              "    }\n",
              "\n",
              "    [theme=dark] .colab-df-convert {\n",
              "      background-color: #3B4455;\n",
              "      fill: #D2E3FC;\n",
              "    }\n",
              "\n",
              "    [theme=dark] .colab-df-convert:hover {\n",
              "      background-color: #434B5C;\n",
              "      box-shadow: 0px 1px 3px 1px rgba(0, 0, 0, 0.15);\n",
              "      filter: drop-shadow(0px 1px 2px rgba(0, 0, 0, 0.3));\n",
              "      fill: #FFFFFF;\n",
              "    }\n",
              "  </style>\n",
              "\n",
              "    <script>\n",
              "      const buttonEl =\n",
              "        document.querySelector('#df-8a5bcb37-73ec-444b-9bb7-13491d5fe066 button.colab-df-convert');\n",
              "      buttonEl.style.display =\n",
              "        google.colab.kernel.accessAllowed ? 'block' : 'none';\n",
              "\n",
              "      async function convertToInteractive(key) {\n",
              "        const element = document.querySelector('#df-8a5bcb37-73ec-444b-9bb7-13491d5fe066');\n",
              "        const dataTable =\n",
              "          await google.colab.kernel.invokeFunction('convertToInteractive',\n",
              "                                                    [key], {});\n",
              "        if (!dataTable) return;\n",
              "\n",
              "        const docLinkHtml = 'Like what you see? Visit the ' +\n",
              "          '<a target=\"_blank\" href=https://colab.research.google.com/notebooks/data_table.ipynb>data table notebook</a>'\n",
              "          + ' to learn more about interactive tables.';\n",
              "        element.innerHTML = '';\n",
              "        dataTable['output_type'] = 'display_data';\n",
              "        await google.colab.output.renderOutput(dataTable, element);\n",
              "        const docLink = document.createElement('div');\n",
              "        docLink.innerHTML = docLinkHtml;\n",
              "        element.appendChild(docLink);\n",
              "      }\n",
              "    </script>\n",
              "  </div>\n",
              "\n",
              "\n",
              "<div id=\"df-644b01f1-bfa3-4a63-99fa-cc66df739308\">\n",
              "  <button class=\"colab-df-quickchart\" onclick=\"quickchart('df-644b01f1-bfa3-4a63-99fa-cc66df739308')\"\n",
              "            title=\"Suggest charts.\"\n",
              "            style=\"display:none;\">\n",
              "\n",
              "<svg xmlns=\"http://www.w3.org/2000/svg\" height=\"24px\"viewBox=\"0 0 24 24\"\n",
              "     width=\"24px\">\n",
              "    <g>\n",
              "        <path d=\"M19 3H5c-1.1 0-2 .9-2 2v14c0 1.1.9 2 2 2h14c1.1 0 2-.9 2-2V5c0-1.1-.9-2-2-2zM9 17H7v-7h2v7zm4 0h-2V7h2v10zm4 0h-2v-4h2v4z\"/>\n",
              "    </g>\n",
              "</svg>\n",
              "  </button>\n",
              "\n",
              "<style>\n",
              "  .colab-df-quickchart {\n",
              "      --bg-color: #E8F0FE;\n",
              "      --fill-color: #1967D2;\n",
              "      --hover-bg-color: #E2EBFA;\n",
              "      --hover-fill-color: #174EA6;\n",
              "      --disabled-fill-color: #AAA;\n",
              "      --disabled-bg-color: #DDD;\n",
              "  }\n",
              "\n",
              "  [theme=dark] .colab-df-quickchart {\n",
              "      --bg-color: #3B4455;\n",
              "      --fill-color: #D2E3FC;\n",
              "      --hover-bg-color: #434B5C;\n",
              "      --hover-fill-color: #FFFFFF;\n",
              "      --disabled-bg-color: #3B4455;\n",
              "      --disabled-fill-color: #666;\n",
              "  }\n",
              "\n",
              "  .colab-df-quickchart {\n",
              "    background-color: var(--bg-color);\n",
              "    border: none;\n",
              "    border-radius: 50%;\n",
              "    cursor: pointer;\n",
              "    display: none;\n",
              "    fill: var(--fill-color);\n",
              "    height: 32px;\n",
              "    padding: 0;\n",
              "    width: 32px;\n",
              "  }\n",
              "\n",
              "  .colab-df-quickchart:hover {\n",
              "    background-color: var(--hover-bg-color);\n",
              "    box-shadow: 0 1px 2px rgba(60, 64, 67, 0.3), 0 1px 3px 1px rgba(60, 64, 67, 0.15);\n",
              "    fill: var(--button-hover-fill-color);\n",
              "  }\n",
              "\n",
              "  .colab-df-quickchart-complete:disabled,\n",
              "  .colab-df-quickchart-complete:disabled:hover {\n",
              "    background-color: var(--disabled-bg-color);\n",
              "    fill: var(--disabled-fill-color);\n",
              "    box-shadow: none;\n",
              "  }\n",
              "\n",
              "  .colab-df-spinner {\n",
              "    border: 2px solid var(--fill-color);\n",
              "    border-color: transparent;\n",
              "    border-bottom-color: var(--fill-color);\n",
              "    animation:\n",
              "      spin 1s steps(1) infinite;\n",
              "  }\n",
              "\n",
              "  @keyframes spin {\n",
              "    0% {\n",
              "      border-color: transparent;\n",
              "      border-bottom-color: var(--fill-color);\n",
              "      border-left-color: var(--fill-color);\n",
              "    }\n",
              "    20% {\n",
              "      border-color: transparent;\n",
              "      border-left-color: var(--fill-color);\n",
              "      border-top-color: var(--fill-color);\n",
              "    }\n",
              "    30% {\n",
              "      border-color: transparent;\n",
              "      border-left-color: var(--fill-color);\n",
              "      border-top-color: var(--fill-color);\n",
              "      border-right-color: var(--fill-color);\n",
              "    }\n",
              "    40% {\n",
              "      border-color: transparent;\n",
              "      border-right-color: var(--fill-color);\n",
              "      border-top-color: var(--fill-color);\n",
              "    }\n",
              "    60% {\n",
              "      border-color: transparent;\n",
              "      border-right-color: var(--fill-color);\n",
              "    }\n",
              "    80% {\n",
              "      border-color: transparent;\n",
              "      border-right-color: var(--fill-color);\n",
              "      border-bottom-color: var(--fill-color);\n",
              "    }\n",
              "    90% {\n",
              "      border-color: transparent;\n",
              "      border-bottom-color: var(--fill-color);\n",
              "    }\n",
              "  }\n",
              "</style>\n",
              "\n",
              "  <script>\n",
              "    async function quickchart(key) {\n",
              "      const quickchartButtonEl =\n",
              "        document.querySelector('#' + key + ' button');\n",
              "      quickchartButtonEl.disabled = true;  // To prevent multiple clicks.\n",
              "      quickchartButtonEl.classList.add('colab-df-spinner');\n",
              "      try {\n",
              "        const charts = await google.colab.kernel.invokeFunction(\n",
              "            'suggestCharts', [key], {});\n",
              "      } catch (error) {\n",
              "        console.error('Error during call to suggestCharts:', error);\n",
              "      }\n",
              "      quickchartButtonEl.classList.remove('colab-df-spinner');\n",
              "      quickchartButtonEl.classList.add('colab-df-quickchart-complete');\n",
              "    }\n",
              "    (() => {\n",
              "      let quickchartButtonEl =\n",
              "        document.querySelector('#df-644b01f1-bfa3-4a63-99fa-cc66df739308 button');\n",
              "      quickchartButtonEl.style.display =\n",
              "        google.colab.kernel.accessAllowed ? 'block' : 'none';\n",
              "    })();\n",
              "  </script>\n",
              "</div>\n",
              "    </div>\n",
              "  </div>\n"
            ],
            "text/plain": [
              "         data    natureza         bairro              tipo  auto  moto  \\\n",
              "0  01/01/2022  COM VÍTIMA         JORDÃO   COLISÃO FRONTAL     1     1   \n",
              "1  01/01/2022  SEM VÍTIMA    IMBIRIBEIRA  COLISÃO TRASEIRA     2     0   \n",
              "2  01/01/2022  COM VÍTIMA        CAXANGÁ  COLISÃO TRASEIRA     1     1   \n",
              "3  01/01/2022  COM VÍTIMA  JOANA BEZERRA   COLISÃO LATERAL     1     1   \n",
              "4  02/01/2022  COM VÍTIMA        AFLITOS   COLISÃO LATERAL     1     1   \n",
              "\n",
              "   pedestre tempo_clima situacao_semaforo      sinalizacao condicao_via  \\\n",
              "0         0         Bom        Não existe    Não existente         Seca   \n",
              "1         0         Bom       Sem defeito  Perfeito estado         Seca   \n",
              "2         0         NaN               NaN              NaN          NaN   \n",
              "3         0         NaN               NaN              NaN          NaN   \n",
              "4         0         Bom        Não existe  Perfeito estado         Seca   \n",
              "\n",
              "  velocidade_max_via     ponto_controle  \n",
              "0                NaN         Não existe  \n",
              "1                NaN  Faixa de pedestre  \n",
              "2                NaN                NaN  \n",
              "3                NaN                NaN  \n",
              "4                NaN                NaN  "
            ]
          },
          "execution_count": 19,
          "metadata": {},
          "output_type": "execute_result"
        }
      ],
      "source": [
        "# Visualizando as 5 primeiras linhas da base para vermos uma prévia dos dados\n",
        "dados_util.head()"
      ]
    },
    {
      "cell_type": "code",
      "execution_count": null,
      "metadata": {
        "colab": {
          "base_uri": "https://localhost:8080/"
        },
        "id": "nJPDxZfz0Uey",
        "outputId": "a8fc4a75-2a7a-4f89-d5bc-448ae59e9c22"
      },
      "outputs": [
        {
          "name": "stdout",
          "output_type": "stream",
          "text": [
            "<class 'pandas.core.frame.DataFrame'>\n",
            "RangeIndex: 2669 entries, 0 to 2668\n",
            "Data columns (total 13 columns):\n",
            " #   Column              Non-Null Count  Dtype \n",
            "---  ------              --------------  ----- \n",
            " 0   data                2669 non-null   object\n",
            " 1   natureza            2669 non-null   object\n",
            " 2   bairro              2659 non-null   object\n",
            " 3   tipo                2563 non-null   object\n",
            " 4   auto                2669 non-null   int64 \n",
            " 5   moto                2669 non-null   int64 \n",
            " 6   pedestre            2669 non-null   int64 \n",
            " 7   tempo_clima         2111 non-null   object\n",
            " 8   situacao_semaforo   2090 non-null   object\n",
            " 9   sinalizacao         2079 non-null   object\n",
            " 10  condicao_via        2103 non-null   object\n",
            " 11  velocidade_max_via  767 non-null    object\n",
            " 12  ponto_controle      2002 non-null   object\n",
            "dtypes: int64(3), object(10)\n",
            "memory usage: 271.2+ KB\n"
          ]
        }
      ],
      "source": [
        "# Verificando como estão organizados e quais os seus tipos\n",
        "dados_util.info()"
      ]
    },
    {
      "cell_type": "code",
      "execution_count": null,
      "metadata": {
        "colab": {
          "base_uri": "https://localhost:8080/"
        },
        "id": "5cYIaPIb0o0R",
        "outputId": "0d652c48-7189-47dd-f84c-ede472bb12f0"
      },
      "outputs": [
        {
          "data": {
            "text/plain": [
              "object    10\n",
              "int64      3\n",
              "dtype: int64"
            ]
          },
          "execution_count": 21,
          "metadata": {},
          "output_type": "execute_result"
        }
      ],
      "source": [
        "# Tipos dos dados existentes em cada coluna\n",
        "dados_util.dtypes.value_counts()"
      ]
    },
    {
      "cell_type": "code",
      "execution_count": null,
      "metadata": {
        "id": "4tUDpnKH1M1A"
      },
      "outputs": [],
      "source": [
        "# Criando um dataframe reserva caso aconteça algum imprevisto com o que estivermos trablhando\n",
        "dados_util_reserva = dados_util.copy()"
      ]
    },
    {
      "cell_type": "code",
      "execution_count": null,
      "metadata": {
        "colab": {
          "base_uri": "https://localhost:8080/"
        },
        "id": "HCiMASO71O8q",
        "outputId": "a8447364-2489-44d9-82a1-959b3db32221"
      },
      "outputs": [
        {
          "data": {
            "text/plain": [
              "data                     0\n",
              "natureza                 0\n",
              "bairro                  10\n",
              "tipo                   106\n",
              "auto                     0\n",
              "moto                     0\n",
              "pedestre                 0\n",
              "tempo_clima            558\n",
              "situacao_semaforo      579\n",
              "sinalizacao            590\n",
              "condicao_via           566\n",
              "velocidade_max_via    1902\n",
              "ponto_controle         667\n",
              "dtype: int64"
            ]
          },
          "execution_count": 23,
          "metadata": {},
          "output_type": "execute_result"
        }
      ],
      "source": [
        "# Verificando a quantidade de valores nulos por coluna\n",
        "dados_util.isna().sum()"
      ]
    },
    {
      "cell_type": "markdown",
      "metadata": {
        "id": "zpuzPamY2jwx"
      },
      "source": [
        "### Análises na base"
      ]
    },
    {
      "cell_type": "markdown",
      "metadata": {
        "id": "BTIW13SO277h"
      },
      "source": [
        "#### Resumo estatístico"
      ]
    },
    {
      "cell_type": "code",
      "execution_count": null,
      "metadata": {
        "colab": {
          "base_uri": "https://localhost:8080/",
          "height": 192
        },
        "id": "4Kijh2Dq1OzH",
        "outputId": "28d0c899-8799-4fc9-d7c1-8a54864aefcf"
      },
      "outputs": [
        {
          "data": {
            "text/html": [
              "\n",
              "  <div id=\"df-8030972c-e79b-4eee-86cb-e2406b0072af\" class=\"colab-df-container\">\n",
              "    <div>\n",
              "<style scoped>\n",
              "    .dataframe tbody tr th:only-of-type {\n",
              "        vertical-align: middle;\n",
              "    }\n",
              "\n",
              "    .dataframe tbody tr th {\n",
              "        vertical-align: top;\n",
              "    }\n",
              "\n",
              "    .dataframe thead th {\n",
              "        text-align: right;\n",
              "    }\n",
              "</style>\n",
              "<table border=\"1\" class=\"dataframe\">\n",
              "  <thead>\n",
              "    <tr style=\"text-align: right;\">\n",
              "      <th></th>\n",
              "      <th>data</th>\n",
              "      <th>natureza</th>\n",
              "      <th>bairro</th>\n",
              "      <th>tipo</th>\n",
              "      <th>tempo_clima</th>\n",
              "      <th>situacao_semaforo</th>\n",
              "      <th>sinalizacao</th>\n",
              "      <th>condicao_via</th>\n",
              "      <th>velocidade_max_via</th>\n",
              "      <th>ponto_controle</th>\n",
              "    </tr>\n",
              "  </thead>\n",
              "  <tbody>\n",
              "    <tr>\n",
              "      <th>count</th>\n",
              "      <td>2669</td>\n",
              "      <td>2669</td>\n",
              "      <td>2659</td>\n",
              "      <td>2563</td>\n",
              "      <td>2111</td>\n",
              "      <td>2090</td>\n",
              "      <td>2079</td>\n",
              "      <td>2103</td>\n",
              "      <td>767</td>\n",
              "      <td>2002</td>\n",
              "    </tr>\n",
              "    <tr>\n",
              "      <th>unique</th>\n",
              "      <td>361</td>\n",
              "      <td>3</td>\n",
              "      <td>91</td>\n",
              "      <td>18</td>\n",
              "      <td>3</td>\n",
              "      <td>5</td>\n",
              "      <td>4</td>\n",
              "      <td>3</td>\n",
              "      <td>11</td>\n",
              "      <td>5</td>\n",
              "    </tr>\n",
              "    <tr>\n",
              "      <th>top</th>\n",
              "      <td>21/11/2022</td>\n",
              "      <td>COM VÍTIMA</td>\n",
              "      <td>BOA VIAGEM</td>\n",
              "      <td>COLISÃO LATERAL</td>\n",
              "      <td>Bom</td>\n",
              "      <td>Não existe</td>\n",
              "      <td>Perfeito estado</td>\n",
              "      <td>Seca</td>\n",
              "      <td>60 km/h</td>\n",
              "      <td>Não existe</td>\n",
              "    </tr>\n",
              "    <tr>\n",
              "      <th>freq</th>\n",
              "      <td>16</td>\n",
              "      <td>2081</td>\n",
              "      <td>301</td>\n",
              "      <td>838</td>\n",
              "      <td>1789</td>\n",
              "      <td>1266</td>\n",
              "      <td>1628</td>\n",
              "      <td>1774</td>\n",
              "      <td>432</td>\n",
              "      <td>1180</td>\n",
              "    </tr>\n",
              "  </tbody>\n",
              "</table>\n",
              "</div>\n",
              "    <div class=\"colab-df-buttons\">\n",
              "\n",
              "  <div class=\"colab-df-container\">\n",
              "    <button class=\"colab-df-convert\" onclick=\"convertToInteractive('df-8030972c-e79b-4eee-86cb-e2406b0072af')\"\n",
              "            title=\"Convert this dataframe to an interactive table.\"\n",
              "            style=\"display:none;\">\n",
              "\n",
              "  <svg xmlns=\"http://www.w3.org/2000/svg\" height=\"24px\" viewBox=\"0 -960 960 960\">\n",
              "    <path d=\"M120-120v-720h720v720H120Zm60-500h600v-160H180v160Zm220 220h160v-160H400v160Zm0 220h160v-160H400v160ZM180-400h160v-160H180v160Zm440 0h160v-160H620v160ZM180-180h160v-160H180v160Zm440 0h160v-160H620v160Z\"/>\n",
              "  </svg>\n",
              "    </button>\n",
              "\n",
              "  <style>\n",
              "    .colab-df-container {\n",
              "      display:flex;\n",
              "      gap: 12px;\n",
              "    }\n",
              "\n",
              "    .colab-df-convert {\n",
              "      background-color: #E8F0FE;\n",
              "      border: none;\n",
              "      border-radius: 50%;\n",
              "      cursor: pointer;\n",
              "      display: none;\n",
              "      fill: #1967D2;\n",
              "      height: 32px;\n",
              "      padding: 0 0 0 0;\n",
              "      width: 32px;\n",
              "    }\n",
              "\n",
              "    .colab-df-convert:hover {\n",
              "      background-color: #E2EBFA;\n",
              "      box-shadow: 0px 1px 2px rgba(60, 64, 67, 0.3), 0px 1px 3px 1px rgba(60, 64, 67, 0.15);\n",
              "      fill: #174EA6;\n",
              "    }\n",
              "\n",
              "    .colab-df-buttons div {\n",
              "      margin-bottom: 4px;\n",
              "    }\n",
              "\n",
              "    [theme=dark] .colab-df-convert {\n",
              "      background-color: #3B4455;\n",
              "      fill: #D2E3FC;\n",
              "    }\n",
              "\n",
              "    [theme=dark] .colab-df-convert:hover {\n",
              "      background-color: #434B5C;\n",
              "      box-shadow: 0px 1px 3px 1px rgba(0, 0, 0, 0.15);\n",
              "      filter: drop-shadow(0px 1px 2px rgba(0, 0, 0, 0.3));\n",
              "      fill: #FFFFFF;\n",
              "    }\n",
              "  </style>\n",
              "\n",
              "    <script>\n",
              "      const buttonEl =\n",
              "        document.querySelector('#df-8030972c-e79b-4eee-86cb-e2406b0072af button.colab-df-convert');\n",
              "      buttonEl.style.display =\n",
              "        google.colab.kernel.accessAllowed ? 'block' : 'none';\n",
              "\n",
              "      async function convertToInteractive(key) {\n",
              "        const element = document.querySelector('#df-8030972c-e79b-4eee-86cb-e2406b0072af');\n",
              "        const dataTable =\n",
              "          await google.colab.kernel.invokeFunction('convertToInteractive',\n",
              "                                                    [key], {});\n",
              "        if (!dataTable) return;\n",
              "\n",
              "        const docLinkHtml = 'Like what you see? Visit the ' +\n",
              "          '<a target=\"_blank\" href=https://colab.research.google.com/notebooks/data_table.ipynb>data table notebook</a>'\n",
              "          + ' to learn more about interactive tables.';\n",
              "        element.innerHTML = '';\n",
              "        dataTable['output_type'] = 'display_data';\n",
              "        await google.colab.output.renderOutput(dataTable, element);\n",
              "        const docLink = document.createElement('div');\n",
              "        docLink.innerHTML = docLinkHtml;\n",
              "        element.appendChild(docLink);\n",
              "      }\n",
              "    </script>\n",
              "  </div>\n",
              "\n",
              "\n",
              "<div id=\"df-fa0e0a89-8ea5-466f-ad6c-79c4855f5238\">\n",
              "  <button class=\"colab-df-quickchart\" onclick=\"quickchart('df-fa0e0a89-8ea5-466f-ad6c-79c4855f5238')\"\n",
              "            title=\"Suggest charts.\"\n",
              "            style=\"display:none;\">\n",
              "\n",
              "<svg xmlns=\"http://www.w3.org/2000/svg\" height=\"24px\"viewBox=\"0 0 24 24\"\n",
              "     width=\"24px\">\n",
              "    <g>\n",
              "        <path d=\"M19 3H5c-1.1 0-2 .9-2 2v14c0 1.1.9 2 2 2h14c1.1 0 2-.9 2-2V5c0-1.1-.9-2-2-2zM9 17H7v-7h2v7zm4 0h-2V7h2v10zm4 0h-2v-4h2v4z\"/>\n",
              "    </g>\n",
              "</svg>\n",
              "  </button>\n",
              "\n",
              "<style>\n",
              "  .colab-df-quickchart {\n",
              "      --bg-color: #E8F0FE;\n",
              "      --fill-color: #1967D2;\n",
              "      --hover-bg-color: #E2EBFA;\n",
              "      --hover-fill-color: #174EA6;\n",
              "      --disabled-fill-color: #AAA;\n",
              "      --disabled-bg-color: #DDD;\n",
              "  }\n",
              "\n",
              "  [theme=dark] .colab-df-quickchart {\n",
              "      --bg-color: #3B4455;\n",
              "      --fill-color: #D2E3FC;\n",
              "      --hover-bg-color: #434B5C;\n",
              "      --hover-fill-color: #FFFFFF;\n",
              "      --disabled-bg-color: #3B4455;\n",
              "      --disabled-fill-color: #666;\n",
              "  }\n",
              "\n",
              "  .colab-df-quickchart {\n",
              "    background-color: var(--bg-color);\n",
              "    border: none;\n",
              "    border-radius: 50%;\n",
              "    cursor: pointer;\n",
              "    display: none;\n",
              "    fill: var(--fill-color);\n",
              "    height: 32px;\n",
              "    padding: 0;\n",
              "    width: 32px;\n",
              "  }\n",
              "\n",
              "  .colab-df-quickchart:hover {\n",
              "    background-color: var(--hover-bg-color);\n",
              "    box-shadow: 0 1px 2px rgba(60, 64, 67, 0.3), 0 1px 3px 1px rgba(60, 64, 67, 0.15);\n",
              "    fill: var(--button-hover-fill-color);\n",
              "  }\n",
              "\n",
              "  .colab-df-quickchart-complete:disabled,\n",
              "  .colab-df-quickchart-complete:disabled:hover {\n",
              "    background-color: var(--disabled-bg-color);\n",
              "    fill: var(--disabled-fill-color);\n",
              "    box-shadow: none;\n",
              "  }\n",
              "\n",
              "  .colab-df-spinner {\n",
              "    border: 2px solid var(--fill-color);\n",
              "    border-color: transparent;\n",
              "    border-bottom-color: var(--fill-color);\n",
              "    animation:\n",
              "      spin 1s steps(1) infinite;\n",
              "  }\n",
              "\n",
              "  @keyframes spin {\n",
              "    0% {\n",
              "      border-color: transparent;\n",
              "      border-bottom-color: var(--fill-color);\n",
              "      border-left-color: var(--fill-color);\n",
              "    }\n",
              "    20% {\n",
              "      border-color: transparent;\n",
              "      border-left-color: var(--fill-color);\n",
              "      border-top-color: var(--fill-color);\n",
              "    }\n",
              "    30% {\n",
              "      border-color: transparent;\n",
              "      border-left-color: var(--fill-color);\n",
              "      border-top-color: var(--fill-color);\n",
              "      border-right-color: var(--fill-color);\n",
              "    }\n",
              "    40% {\n",
              "      border-color: transparent;\n",
              "      border-right-color: var(--fill-color);\n",
              "      border-top-color: var(--fill-color);\n",
              "    }\n",
              "    60% {\n",
              "      border-color: transparent;\n",
              "      border-right-color: var(--fill-color);\n",
              "    }\n",
              "    80% {\n",
              "      border-color: transparent;\n",
              "      border-right-color: var(--fill-color);\n",
              "      border-bottom-color: var(--fill-color);\n",
              "    }\n",
              "    90% {\n",
              "      border-color: transparent;\n",
              "      border-bottom-color: var(--fill-color);\n",
              "    }\n",
              "  }\n",
              "</style>\n",
              "\n",
              "  <script>\n",
              "    async function quickchart(key) {\n",
              "      const quickchartButtonEl =\n",
              "        document.querySelector('#' + key + ' button');\n",
              "      quickchartButtonEl.disabled = true;  // To prevent multiple clicks.\n",
              "      quickchartButtonEl.classList.add('colab-df-spinner');\n",
              "      try {\n",
              "        const charts = await google.colab.kernel.invokeFunction(\n",
              "            'suggestCharts', [key], {});\n",
              "      } catch (error) {\n",
              "        console.error('Error during call to suggestCharts:', error);\n",
              "      }\n",
              "      quickchartButtonEl.classList.remove('colab-df-spinner');\n",
              "      quickchartButtonEl.classList.add('colab-df-quickchart-complete');\n",
              "    }\n",
              "    (() => {\n",
              "      let quickchartButtonEl =\n",
              "        document.querySelector('#df-fa0e0a89-8ea5-466f-ad6c-79c4855f5238 button');\n",
              "      quickchartButtonEl.style.display =\n",
              "        google.colab.kernel.accessAllowed ? 'block' : 'none';\n",
              "    })();\n",
              "  </script>\n",
              "</div>\n",
              "    </div>\n",
              "  </div>\n"
            ],
            "text/plain": [
              "              data    natureza      bairro             tipo tempo_clima  \\\n",
              "count         2669        2669        2659             2563        2111   \n",
              "unique         361           3          91               18           3   \n",
              "top     21/11/2022  COM VÍTIMA  BOA VIAGEM  COLISÃO LATERAL         Bom   \n",
              "freq            16        2081         301              838        1789   \n",
              "\n",
              "       situacao_semaforo      sinalizacao condicao_via velocidade_max_via  \\\n",
              "count               2090             2079         2103                767   \n",
              "unique                 5                4            3                 11   \n",
              "top           Não existe  Perfeito estado         Seca            60 km/h   \n",
              "freq                1266             1628         1774                432   \n",
              "\n",
              "       ponto_controle  \n",
              "count            2002  \n",
              "unique              5  \n",
              "top        Não existe  \n",
              "freq             1180  "
            ]
          },
          "execution_count": 24,
          "metadata": {},
          "output_type": "execute_result"
        }
      ],
      "source": [
        "# Resumo estatístico dos nossos dados, onde podemos ver:\n",
        "### Quantidade de resgistros (count),\n",
        "### Quantidade de valores únicos (unique),\n",
        "### Valor mais frequente/maior quantidade (top)\n",
        "### Quantidade de vezes que esse valor mais frequente aparece (freq).\n",
        "dados_util.describe(include = 'O')"
      ]
    },
    {
      "cell_type": "markdown",
      "metadata": {
        "id": "wB3UuVkL3AcL"
      },
      "source": [
        "#### Locais com maior quantidade de acidentes com vítimas"
      ]
    },
    {
      "cell_type": "markdown",
      "metadata": {
        "id": "lrwaVVICeWhx"
      },
      "source": [
        "Nós, moradoradores de Recife e Região Metropolitana, sabemos empiricamente como é difícil o trânsito de Boa Viagem. O gráfico abaixo comprova o que nós, moradores, já esperávamos e também o que mídias locais afirmam. De acordo com o Jornal do Comércio, Boa Viagem comporta a maior frota veicular da cidade e, consequentemente, o maior número de acidentes de trânsito, inclusive com vítimas.\n",
        "\n",
        "Obs: Os dados da reportagem são de 2020 e os do gráfico, de 2022. Podemos perceber que mesmo diante de uma situação antiga, em dois anos, esse cenário ainda não mudou.\n",
        "\n",
        "---\n",
        "\n",
        "\n",
        "Link da reportagem: https://jc.ne10.uol.com.br/colunas/mobilidade/2022/03/14954692-os-bairros-do-recife-onde-o-transito-e-mais-perigoso.html#:~:text=OS%20CINCO%20BAIRROS%20QUE%20LIDERAM%20O%20PERIGO&text=Em%20primeiro%20lugar%2C%20sem%20surpresas,na%20Zona%20Sul%20da%20cidade."
      ]
    },
    {
      "cell_type": "code",
      "execution_count": null,
      "metadata": {
        "colab": {
          "base_uri": "https://localhost:8080/"
        },
        "id": "rPRcEUPj4Xw2",
        "outputId": "48938fc6-4f13-42a0-c6fd-7aa4bc7f9f6d"
      },
      "outputs": [
        {
          "data": {
            "text/plain": [
              "COM VÍTIMA      2081\n",
              "SEM VÍTIMA       566\n",
              "VÍTIMA FATAL      22\n",
              "Name: natureza, dtype: int64"
            ]
          },
          "execution_count": 25,
          "metadata": {},
          "output_type": "execute_result"
        }
      ],
      "source": [
        "# Quantidade de acidentes e seus respectivos tipos de natureza\n",
        "dados_util['natureza'].value_counts()"
      ]
    },
    {
      "cell_type": "code",
      "execution_count": null,
      "metadata": {
        "id": "SKEFBt2P5VUP"
      },
      "outputs": [],
      "source": [
        "# Filtrar os dados para incluir apenas natureza 'com vítima'\n",
        "dados_com_vitima = dados_util[dados_util['natureza'] == 'COM VÍTIMA']"
      ]
    },
    {
      "cell_type": "code",
      "execution_count": null,
      "metadata": {
        "colab": {
          "base_uri": "https://localhost:8080/"
        },
        "id": "xOlxxO1j5YBA",
        "outputId": "c6d21c9e-451c-422b-c915-253db4e539df"
      },
      "outputs": [
        {
          "data": {
            "text/plain": [
              "BOA VIAGEM             224\n",
              "IMBIRIBEIRA            114\n",
              "SANTO AMARO            108\n",
              "BOA VISTA               69\n",
              "MADALENA                67\n",
              "                      ... \n",
              "SANTANA                  1\n",
              "COELHOS                  1\n",
              "CÓRREGO DO JENIPAPO      1\n",
              "ALTO JOSÉ DO PINHO       1\n",
              "POÇO DA PANELA           1\n",
              "Name: bairro, Length: 88, dtype: int64"
            ]
          },
          "execution_count": 27,
          "metadata": {},
          "output_type": "execute_result"
        }
      ],
      "source": [
        "# Agrupar por bairro e contar o número de ocorrências\n",
        "contagem_bairros_com_vitima = dados_com_vitima['bairro'].value_counts()\n",
        "contagem_bairros_com_vitima"
      ]
    },
    {
      "cell_type": "code",
      "execution_count": null,
      "metadata": {
        "colab": {
          "base_uri": "https://localhost:8080/",
          "height": 607
        },
        "id": "sLYURxZgeiVB",
        "outputId": "d9786b45-b8d0-4b68-9f9d-2886557c4376"
      },
      "outputs": [
        {
          "data": {
            "image/png": "[encoded data removed]",
            "text/plain": [
              "<Figure size 1200x600 with 1 Axes>"
            ]
          },
          "metadata": {},
          "output_type": "display_data"
        }
      ],
      "source": [
        "# Criar um gráfico de barras\n",
        "plt.figure(figsize=(12, 6))\n",
        "# Realizamos um filtro para melhor visualização no gráfico\n",
        "contagem_bairros_com_vitima.loc[contagem_bairros_com_vitima > 5].plot(kind='bar', color='skyblue')\n",
        "plt.title('Número de Acidentes por Bairro com Natureza \"Com Vítima\"')\n",
        "plt.xlabel('Bairro')\n",
        "plt.ylabel('Número de Acidentes')\n",
        "plt.xticks(rotation=45, ha='right')  # Rotação dos rótulos para melhor legibilidade\n",
        "plt.tight_layout()\n",
        "plt.show()"
      ]
    },
    {
      "cell_type": "markdown",
      "metadata": {
        "id": "EyciQo_85wLf"
      },
      "source": [
        "#### Quantidade de Acidentes por Mês"
      ]
    },
    {
      "cell_type": "markdown",
      "metadata": {
        "id": "4NEez3A2go0M"
      },
      "source": [
        "Sabemos que Dezembro é um mês de férias, de datas comemorativas, muitas viagens e consquentemente um maior fluxo no trânsito. De acordo com o Diário de Pernambuco, em Dezembro de 2022 mesmo com o aumento das fiscalizações de trânsito, dos dias 22 a 25 de Dezembro, foram registrados 44 flagrantes de motoristas que assumiram o volante depois de consumir bebida alcoólica. Além de 195 condutores autuados por ultrapassagem proibida, responsável por muitas das colisões frontais.\n",
        "\n",
        "\n",
        "---\n",
        "\n",
        "\n",
        "Link da reportagem: https://www.diariodepernambuco.com.br/noticia/vidaurbana/2022/12/prf-divulga-balanco-da-operacao-natal-em-pernambuco.html"
      ]
    },
    {
      "cell_type": "code",
      "execution_count": null,
      "metadata": {
        "colab": {
          "base_uri": "https://localhost:8080/"
        },
        "id": "VgBDHZLP57t6",
        "outputId": "50d1a1f1-efc5-41f0-fe48-54a82a5a8985"
      },
      "outputs": [
        {
          "name": "stderr",
          "output_type": "stream",
          "text": [
            "<ipython-input-29-fe5920c8e4dc>:2: SettingWithCopyWarning: \n",
            "A value is trying to be set on a copy of a slice from a DataFrame.\n",
            "Try using .loc[row_indexer,col_indexer] = value instead\n",
            "\n",
            "See the caveats in the documentation: https://pandas.pydata.org/pandas-docs/stable/user_guide/indexing.html#returning-a-view-versus-a-copy\n",
            "  dados_util['data'] = pd.to_datetime(dados_util['data'], format='%d/%m/%Y', errors='coerce')\n"
          ]
        }
      ],
      "source": [
        "# Converter a coluna 'data' para o tipo datetime\n",
        "dados_util['data'] = pd.to_datetime(dados_util['data'], format='%d/%m/%Y', errors='coerce')"
      ]
    },
    {
      "cell_type": "code",
      "execution_count": null,
      "metadata": {
        "colab": {
          "base_uri": "https://localhost:8080/"
        },
        "id": "6dJooUIS6Kfs",
        "outputId": "097c4a66-4c0b-414e-d137-2cecc69e2b22"
      },
      "outputs": [
        {
          "name": "stderr",
          "output_type": "stream",
          "text": [
            "<ipython-input-30-941011d0d512>:2: SettingWithCopyWarning: \n",
            "A value is trying to be set on a copy of a slice from a DataFrame.\n",
            "Try using .loc[row_indexer,col_indexer] = value instead\n",
            "\n",
            "See the caveats in the documentation: https://pandas.pydata.org/pandas-docs/stable/user_guide/indexing.html#returning-a-view-versus-a-copy\n",
            "  dados_util['mes'] = dados_util['data'].dt.month\n"
          ]
        },
        {
          "data": {
            "text/plain": [
              "1     211\n",
              "2     188\n",
              "3     193\n",
              "4     186\n",
              "5     200\n",
              "6     217\n",
              "7     219\n",
              "8     258\n",
              "9     253\n",
              "10    251\n",
              "11    239\n",
              "12    254\n",
              "Name: mes, dtype: int64"
            ]
          },
          "execution_count": 30,
          "metadata": {},
          "output_type": "execute_result"
        }
      ],
      "source": [
        "# Criando uma nova coluna no dataframe, com o mês de cada data\n",
        "dados_util['mes'] = dados_util['data'].dt.month\n",
        "\n",
        "# Verificando a quantidade de acidentes em cada mês\n",
        "acidentes_por_mes = dados_util['mes'].value_counts().sort_index()\n",
        "acidentes_por_mes"
      ]
    },
    {
      "cell_type": "code",
      "execution_count": null,
      "metadata": {
        "colab": {
          "base_uri": "https://localhost:8080/"
        },
        "id": "mr5NZMN96xL4",
        "outputId": "fa3107d1-82e4-4580-a88a-78deaa2b1bfd"
      },
      "outputs": [
        {
          "data": {
            "text/plain": [
              "0"
            ]
          },
          "execution_count": 31,
          "metadata": {},
          "output_type": "execute_result"
        }
      ],
      "source": [
        "# Verificar se há dados ausentes na coluna 'mes'\n",
        "dados_util['mes'].isna().sum()"
      ]
    },
    {
      "cell_type": "code",
      "execution_count": null,
      "metadata": {
        "colab": {
          "base_uri": "https://localhost:8080/",
          "height": 313
        },
        "id": "3UE7iaU960wI",
        "outputId": "814d91a4-f9d3-401c-89ea-d9e6346e0c73"
      },
      "outputs": [
        {
          "data": {
            "text/html": [
              "\n",
              "  <div id=\"df-8c9fc47e-a21b-422f-914b-4223fa202aa9\" class=\"colab-df-container\">\n",
              "    <div>\n",
              "<style scoped>\n",
              "    .dataframe tbody tr th:only-of-type {\n",
              "        vertical-align: middle;\n",
              "    }\n",
              "\n",
              "    .dataframe tbody tr th {\n",
              "        vertical-align: top;\n",
              "    }\n",
              "\n",
              "    .dataframe thead th {\n",
              "        text-align: right;\n",
              "    }\n",
              "</style>\n",
              "<table border=\"1\" class=\"dataframe\">\n",
              "  <thead>\n",
              "    <tr style=\"text-align: right;\">\n",
              "      <th></th>\n",
              "      <th>data</th>\n",
              "      <th>natureza</th>\n",
              "      <th>bairro</th>\n",
              "      <th>tipo</th>\n",
              "      <th>auto</th>\n",
              "      <th>moto</th>\n",
              "      <th>pedestre</th>\n",
              "      <th>tempo_clima</th>\n",
              "      <th>situacao_semaforo</th>\n",
              "      <th>sinalizacao</th>\n",
              "      <th>condicao_via</th>\n",
              "      <th>velocidade_max_via</th>\n",
              "      <th>ponto_controle</th>\n",
              "      <th>mes</th>\n",
              "    </tr>\n",
              "  </thead>\n",
              "  <tbody>\n",
              "    <tr>\n",
              "      <th>0</th>\n",
              "      <td>2022-01-01</td>\n",
              "      <td>COM VÍTIMA</td>\n",
              "      <td>JORDÃO</td>\n",
              "      <td>COLISÃO FRONTAL</td>\n",
              "      <td>1</td>\n",
              "      <td>1</td>\n",
              "      <td>0</td>\n",
              "      <td>Bom</td>\n",
              "      <td>Não existe</td>\n",
              "      <td>Não existente</td>\n",
              "      <td>Seca</td>\n",
              "      <td>NaN</td>\n",
              "      <td>Não existe</td>\n",
              "      <td>1</td>\n",
              "    </tr>\n",
              "    <tr>\n",
              "      <th>1</th>\n",
              "      <td>2022-01-01</td>\n",
              "      <td>SEM VÍTIMA</td>\n",
              "      <td>IMBIRIBEIRA</td>\n",
              "      <td>COLISÃO TRASEIRA</td>\n",
              "      <td>2</td>\n",
              "      <td>0</td>\n",
              "      <td>0</td>\n",
              "      <td>Bom</td>\n",
              "      <td>Sem defeito</td>\n",
              "      <td>Perfeito estado</td>\n",
              "      <td>Seca</td>\n",
              "      <td>NaN</td>\n",
              "      <td>Faixa de pedestre</td>\n",
              "      <td>1</td>\n",
              "    </tr>\n",
              "    <tr>\n",
              "      <th>2</th>\n",
              "      <td>2022-01-01</td>\n",
              "      <td>COM VÍTIMA</td>\n",
              "      <td>CAXANGÁ</td>\n",
              "      <td>COLISÃO TRASEIRA</td>\n",
              "      <td>1</td>\n",
              "      <td>1</td>\n",
              "      <td>0</td>\n",
              "      <td>NaN</td>\n",
              "      <td>NaN</td>\n",
              "      <td>NaN</td>\n",
              "      <td>NaN</td>\n",
              "      <td>NaN</td>\n",
              "      <td>NaN</td>\n",
              "      <td>1</td>\n",
              "    </tr>\n",
              "    <tr>\n",
              "      <th>3</th>\n",
              "      <td>2022-01-01</td>\n",
              "      <td>COM VÍTIMA</td>\n",
              "      <td>JOANA BEZERRA</td>\n",
              "      <td>COLISÃO LATERAL</td>\n",
              "      <td>1</td>\n",
              "      <td>1</td>\n",
              "      <td>0</td>\n",
              "      <td>NaN</td>\n",
              "      <td>NaN</td>\n",
              "      <td>NaN</td>\n",
              "      <td>NaN</td>\n",
              "      <td>NaN</td>\n",
              "      <td>NaN</td>\n",
              "      <td>1</td>\n",
              "    </tr>\n",
              "    <tr>\n",
              "      <th>4</th>\n",
              "      <td>2022-01-02</td>\n",
              "      <td>COM VÍTIMA</td>\n",
              "      <td>AFLITOS</td>\n",
              "      <td>COLISÃO LATERAL</td>\n",
              "      <td>1</td>\n",
              "      <td>1</td>\n",
              "      <td>0</td>\n",
              "      <td>Bom</td>\n",
              "      <td>Não existe</td>\n",
              "      <td>Perfeito estado</td>\n",
              "      <td>Seca</td>\n",
              "      <td>NaN</td>\n",
              "      <td>NaN</td>\n",
              "      <td>1</td>\n",
              "    </tr>\n",
              "  </tbody>\n",
              "</table>\n",
              "</div>\n",
              "    <div class=\"colab-df-buttons\">\n",
              "\n",
              "  <div class=\"colab-df-container\">\n",
              "    <button class=\"colab-df-convert\" onclick=\"convertToInteractive('df-8c9fc47e-a21b-422f-914b-4223fa202aa9')\"\n",
              "            title=\"Convert this dataframe to an interactive table.\"\n",
              "            style=\"display:none;\">\n",
              "\n",
              "  <svg xmlns=\"http://www.w3.org/2000/svg\" height=\"24px\" viewBox=\"0 -960 960 960\">\n",
              "    <path d=\"M120-120v-720h720v720H120Zm60-500h600v-160H180v160Zm220 220h160v-160H400v160Zm0 220h160v-160H400v160ZM180-400h160v-160H180v160Zm440 0h160v-160H620v160ZM180-180h160v-160H180v160Zm440 0h160v-160H620v160Z\"/>\n",
              "  </svg>\n",
              "    </button>\n",
              "\n",
              "  <style>\n",
              "    .colab-df-container {\n",
              "      display:flex;\n",
              "      gap: 12px;\n",
              "    }\n",
              "\n",
              "    .colab-df-convert {\n",
              "      background-color: #E8F0FE;\n",
              "      border: none;\n",
              "      border-radius: 50%;\n",
              "      cursor: pointer;\n",
              "      display: none;\n",
              "      fill: #1967D2;\n",
              "      height: 32px;\n",
              "      padding: 0 0 0 0;\n",
              "      width: 32px;\n",
              "    }\n",
              "\n",
              "    .colab-df-convert:hover {\n",
              "      background-color: #E2EBFA;\n",
              "      box-shadow: 0px 1px 2px rgba(60, 64, 67, 0.3), 0px 1px 3px 1px rgba(60, 64, 67, 0.15);\n",
              "      fill: #174EA6;\n",
              "    }\n",
              "\n",
              "    .colab-df-buttons div {\n",
              "      margin-bottom: 4px;\n",
              "    }\n",
              "\n",
              "    [theme=dark] .colab-df-convert {\n",
              "      background-color: #3B4455;\n",
              "      fill: #D2E3FC;\n",
              "    }\n",
              "\n",
              "    [theme=dark] .colab-df-convert:hover {\n",
              "      background-color: #434B5C;\n",
              "      box-shadow: 0px 1px 3px 1px rgba(0, 0, 0, 0.15);\n",
              "      filter: drop-shadow(0px 1px 2px rgba(0, 0, 0, 0.3));\n",
              "      fill: #FFFFFF;\n",
              "    }\n",
              "  </style>\n",
              "\n",
              "    <script>\n",
              "      const buttonEl =\n",
              "        document.querySelector('#df-8c9fc47e-a21b-422f-914b-4223fa202aa9 button.colab-df-convert');\n",
              "      buttonEl.style.display =\n",
              "        google.colab.kernel.accessAllowed ? 'block' : 'none';\n",
              "\n",
              "      async function convertToInteractive(key) {\n",
              "        const element = document.querySelector('#df-8c9fc47e-a21b-422f-914b-4223fa202aa9');\n",
              "        const dataTable =\n",
              "          await google.colab.kernel.invokeFunction('convertToInteractive',\n",
              "                                                    [key], {});\n",
              "        if (!dataTable) return;\n",
              "\n",
              "        const docLinkHtml = 'Like what you see? Visit the ' +\n",
              "          '<a target=\"_blank\" href=https://colab.research.google.com/notebooks/data_table.ipynb>data table notebook</a>'\n",
              "          + ' to learn more about interactive tables.';\n",
              "        element.innerHTML = '';\n",
              "        dataTable['output_type'] = 'display_data';\n",
              "        await google.colab.output.renderOutput(dataTable, element);\n",
              "        const docLink = document.createElement('div');\n",
              "        docLink.innerHTML = docLinkHtml;\n",
              "        element.appendChild(docLink);\n",
              "      }\n",
              "    </script>\n",
              "  </div>\n",
              "\n",
              "\n",
              "<div id=\"df-62838f2d-ca50-413f-9b5d-7fd940dd78e4\">\n",
              "  <button class=\"colab-df-quickchart\" onclick=\"quickchart('df-62838f2d-ca50-413f-9b5d-7fd940dd78e4')\"\n",
              "            title=\"Suggest charts.\"\n",
              "            style=\"display:none;\">\n",
              "\n",
              "<svg xmlns=\"http://www.w3.org/2000/svg\" height=\"24px\"viewBox=\"0 0 24 24\"\n",
              "     width=\"24px\">\n",
              "    <g>\n",
              "        <path d=\"M19 3H5c-1.1 0-2 .9-2 2v14c0 1.1.9 2 2 2h14c1.1 0 2-.9 2-2V5c0-1.1-.9-2-2-2zM9 17H7v-7h2v7zm4 0h-2V7h2v10zm4 0h-2v-4h2v4z\"/>\n",
              "    </g>\n",
              "</svg>\n",
              "  </button>\n",
              "\n",
              "<style>\n",
              "  .colab-df-quickchart {\n",
              "      --bg-color: #E8F0FE;\n",
              "      --fill-color: #1967D2;\n",
              "      --hover-bg-color: #E2EBFA;\n",
              "      --hover-fill-color: #174EA6;\n",
              "      --disabled-fill-color: #AAA;\n",
              "      --disabled-bg-color: #DDD;\n",
              "  }\n",
              "\n",
              "  [theme=dark] .colab-df-quickchart {\n",
              "      --bg-color: #3B4455;\n",
              "      --fill-color: #D2E3FC;\n",
              "      --hover-bg-color: #434B5C;\n",
              "      --hover-fill-color: #FFFFFF;\n",
              "      --disabled-bg-color: #3B4455;\n",
              "      --disabled-fill-color: #666;\n",
              "  }\n",
              "\n",
              "  .colab-df-quickchart {\n",
              "    background-color: var(--bg-color);\n",
              "    border: none;\n",
              "    border-radius: 50%;\n",
              "    cursor: pointer;\n",
              "    display: none;\n",
              "    fill: var(--fill-color);\n",
              "    height: 32px;\n",
              "    padding: 0;\n",
              "    width: 32px;\n",
              "  }\n",
              "\n",
              "  .colab-df-quickchart:hover {\n",
              "    background-color: var(--hover-bg-color);\n",
              "    box-shadow: 0 1px 2px rgba(60, 64, 67, 0.3), 0 1px 3px 1px rgba(60, 64, 67, 0.15);\n",
              "    fill: var(--button-hover-fill-color);\n",
              "  }\n",
              "\n",
              "  .colab-df-quickchart-complete:disabled,\n",
              "  .colab-df-quickchart-complete:disabled:hover {\n",
              "    background-color: var(--disabled-bg-color);\n",
              "    fill: var(--disabled-fill-color);\n",
              "    box-shadow: none;\n",
              "  }\n",
              "\n",
              "  .colab-df-spinner {\n",
              "    border: 2px solid var(--fill-color);\n",
              "    border-color: transparent;\n",
              "    border-bottom-color: var(--fill-color);\n",
              "    animation:\n",
              "      spin 1s steps(1) infinite;\n",
              "  }\n",
              "\n",
              "  @keyframes spin {\n",
              "    0% {\n",
              "      border-color: transparent;\n",
              "      border-bottom-color: var(--fill-color);\n",
              "      border-left-color: var(--fill-color);\n",
              "    }\n",
              "    20% {\n",
              "      border-color: transparent;\n",
              "      border-left-color: var(--fill-color);\n",
              "      border-top-color: var(--fill-color);\n",
              "    }\n",
              "    30% {\n",
              "      border-color: transparent;\n",
              "      border-left-color: var(--fill-color);\n",
              "      border-top-color: var(--fill-color);\n",
              "      border-right-color: var(--fill-color);\n",
              "    }\n",
              "    40% {\n",
              "      border-color: transparent;\n",
              "      border-right-color: var(--fill-color);\n",
              "      border-top-color: var(--fill-color);\n",
              "    }\n",
              "    60% {\n",
              "      border-color: transparent;\n",
              "      border-right-color: var(--fill-color);\n",
              "    }\n",
              "    80% {\n",
              "      border-color: transparent;\n",
              "      border-right-color: var(--fill-color);\n",
              "      border-bottom-color: var(--fill-color);\n",
              "    }\n",
              "    90% {\n",
              "      border-color: transparent;\n",
              "      border-bottom-color: var(--fill-color);\n",
              "    }\n",
              "  }\n",
              "</style>\n",
              "\n",
              "  <script>\n",
              "    async function quickchart(key) {\n",
              "      const quickchartButtonEl =\n",
              "        document.querySelector('#' + key + ' button');\n",
              "      quickchartButtonEl.disabled = true;  // To prevent multiple clicks.\n",
              "      quickchartButtonEl.classList.add('colab-df-spinner');\n",
              "      try {\n",
              "        const charts = await google.colab.kernel.invokeFunction(\n",
              "            'suggestCharts', [key], {});\n",
              "      } catch (error) {\n",
              "        console.error('Error during call to suggestCharts:', error);\n",
              "      }\n",
              "      quickchartButtonEl.classList.remove('colab-df-spinner');\n",
              "      quickchartButtonEl.classList.add('colab-df-quickchart-complete');\n",
              "    }\n",
              "    (() => {\n",
              "      let quickchartButtonEl =\n",
              "        document.querySelector('#df-62838f2d-ca50-413f-9b5d-7fd940dd78e4 button');\n",
              "      quickchartButtonEl.style.display =\n",
              "        google.colab.kernel.accessAllowed ? 'block' : 'none';\n",
              "    })();\n",
              "  </script>\n",
              "</div>\n",
              "    </div>\n",
              "  </div>\n"
            ],
            "text/plain": [
              "        data    natureza         bairro              tipo  auto  moto  \\\n",
              "0 2022-01-01  COM VÍTIMA         JORDÃO   COLISÃO FRONTAL     1     1   \n",
              "1 2022-01-01  SEM VÍTIMA    IMBIRIBEIRA  COLISÃO TRASEIRA     2     0   \n",
              "2 2022-01-01  COM VÍTIMA        CAXANGÁ  COLISÃO TRASEIRA     1     1   \n",
              "3 2022-01-01  COM VÍTIMA  JOANA BEZERRA   COLISÃO LATERAL     1     1   \n",
              "4 2022-01-02  COM VÍTIMA        AFLITOS   COLISÃO LATERAL     1     1   \n",
              "\n",
              "   pedestre tempo_clima situacao_semaforo      sinalizacao condicao_via  \\\n",
              "0         0         Bom        Não existe    Não existente         Seca   \n",
              "1         0         Bom       Sem defeito  Perfeito estado         Seca   \n",
              "2         0         NaN               NaN              NaN          NaN   \n",
              "3         0         NaN               NaN              NaN          NaN   \n",
              "4         0         Bom        Não existe  Perfeito estado         Seca   \n",
              "\n",
              "  velocidade_max_via     ponto_controle  mes  \n",
              "0                NaN         Não existe    1  \n",
              "1                NaN  Faixa de pedestre    1  \n",
              "2                NaN                NaN    1  \n",
              "3                NaN                NaN    1  \n",
              "4                NaN                NaN    1  "
            ]
          },
          "execution_count": 32,
          "metadata": {},
          "output_type": "execute_result"
        }
      ],
      "source": [
        "# Verificando como ficou nosso dataframe com a nova coluna\n",
        "dados_util.head()"
      ]
    },
    {
      "cell_type": "code",
      "execution_count": null,
      "metadata": {
        "colab": {
          "base_uri": "https://localhost:8080/",
          "height": 565
        },
        "id": "_0SEwUFJelXr",
        "outputId": "ddc09aa3-5e7f-4149-cbce-1620dae133f9"
      },
      "outputs": [
        {
          "data": {
            "image/png": "[encoded data removed]",
            "text/plain": [
              "<Figure size 1000x600 with 1 Axes>"
            ]
          },
          "metadata": {},
          "output_type": "display_data"
        }
      ],
      "source": [
        "# Criar um gráfico de barras\n",
        "plt.figure(figsize=(10, 6))\n",
        "acidentes_por_mes.sort_index().plot(kind='bar', color='skyblue')\n",
        "plt.title('Número de Acidentes por Mês')\n",
        "plt.xlabel('Mês')\n",
        "plt.ylabel('Número de Acidentes')\n",
        "plt.xticks(rotation=0)\n",
        "plt.show()"
      ]
    },
    {
      "cell_type": "markdown",
      "metadata": {
        "id": "E6LDjPGt7JKo"
      },
      "source": [
        "#### Importância dos Pontos de Controle"
      ]
    },
    {
      "cell_type": "markdown",
      "metadata": {
        "id": "Um8wvsSZguMG"
      },
      "source": [
        "O gráfico a seguir mostra a importância dos pontos de controle e que, em locais onde o não há ponto de controle,  a quantidade de acidentes é drasticamente maior do que em locais com Faixa de pedreste, faixa de rentenção ou agentes.\n",
        "\n",
        "Obs: Pontos de Controle são locais específicos nas vias urbanas ou rodovias onde há intervenções, sinalizações ou características especiais destinadas a garantir a segurança e o controle do tráfego,"
      ]
    },
    {
      "cell_type": "code",
      "execution_count": null,
      "metadata": {
        "colab": {
          "base_uri": "https://localhost:8080/"
        },
        "id": "UpXY3ucJ7ho7",
        "outputId": "85979050-4d62-4fff-a7c1-bd156cb992b4"
      },
      "outputs": [
        {
          "data": {
            "text/plain": [
              "Não existe           1180\n",
              "Faixa de pedestre     615\n",
              "Faixa de retenção      81\n",
              "Outros                 77\n",
              "Agente                 49\n",
              "Name: ponto_controle, dtype: int64"
            ]
          },
          "execution_count": 34,
          "metadata": {},
          "output_type": "execute_result"
        }
      ],
      "source": [
        "# Contar a frequência de cada ponto de controle\n",
        "contagem_pontos_controle = dados['ponto_controle'].value_counts()\n",
        "contagem_pontos_controle"
      ]
    },
    {
      "cell_type": "code",
      "execution_count": null,
      "metadata": {
        "colab": {
          "base_uri": "https://localhost:8080/"
        },
        "id": "ZlsWAye57o2Y",
        "outputId": "5515c9e0-86ea-4029-c828-8e165f69b12d"
      },
      "outputs": [
        {
          "data": {
            "text/plain": [
              "{'Não existe': 44.21,\n",
              " 'Faixa de pedestre': 23.04,\n",
              " 'Faixa de retenção': 3.03,\n",
              " 'Outros': 2.88,\n",
              " 'Agente': 1.84}"
            ]
          },
          "execution_count": 35,
          "metadata": {},
          "output_type": "execute_result"
        }
      ],
      "source": [
        "# Frequência percentil de cada ponto de controle\n",
        "contagem_pontos_controle_perc = {}\n",
        "\n",
        "for k, v in contagem_pontos_controle.items():\n",
        "    percentual = v / len(dados_util)\n",
        "    contagem_pontos_controle_perc[k] = round(percentual*100, 2)\n",
        "\n",
        "contagem_pontos_controle_perc"
      ]
    },
    {
      "cell_type": "code",
      "execution_count": null,
      "metadata": {
        "colab": {
          "base_uri": "https://localhost:8080/",
          "height": 648
        },
        "id": "H0aLcR6teoJl",
        "outputId": "640f76f1-e03e-4aca-c6be-4a0b1279b6ab"
      },
      "outputs": [
        {
          "data": {
            "image/png": "[encoded data removed]",
            "text/plain": [
              "<Figure size 1000x600 with 1 Axes>"
            ]
          },
          "metadata": {},
          "output_type": "display_data"
        }
      ],
      "source": [
        "# Criar um gráfico de barras\n",
        "plt.figure(figsize=(10, 6))\n",
        "contagem_pontos_controle.plot(kind='bar', color='skyblue')\n",
        "plt.title('Número de Acidentes por Ponto de Controle')\n",
        "plt.xlabel('Ponto de Controle')\n",
        "plt.ylabel('Número de Acidentes')\n",
        "plt.xticks(rotation=45, ha='right')  # Rotação dos rótulos no eixo x para melhor legibilidade\n",
        "plt.show()"
      ]
    },
    {
      "cell_type": "markdown",
      "metadata": {
        "id": "8ddVYrRY8BYW"
      },
      "source": [
        "#### O efeito que a condição da via tem sobre o trânsito"
      ]
    },
    {
      "cell_type": "code",
      "execution_count": null,
      "metadata": {
        "colab": {
          "base_uri": "https://localhost:8080/"
        },
        "id": "tsxtOKQIFA0_",
        "outputId": "b4c31877-199e-4cc0-a516-6078b065a465"
      },
      "outputs": [
        {
          "data": {
            "text/plain": [
              "Seca       1774\n",
              "Molhada     324\n",
              "Oleosa        5\n",
              "Name: condicao_via, dtype: int64"
            ]
          },
          "execution_count": 37,
          "metadata": {},
          "output_type": "execute_result"
        }
      ],
      "source": [
        "# Mostrar as condições das vias dos acidentes\n",
        "dados.condicao_via.value_counts()"
      ]
    },
    {
      "cell_type": "code",
      "execution_count": null,
      "metadata": {
        "colab": {
          "base_uri": "https://localhost:8080/",
          "height": 143
        },
        "id": "bLyO3VyWGvcN",
        "outputId": "2fe37552-3c28-41f3-dfca-e4e6b2a91d53"
      },
      "outputs": [
        {
          "data": {
            "text/html": [
              "\n",
              "  <div id=\"df-4a463d0d-c7ed-4ca1-a9cd-2fad64641dd8\" class=\"colab-df-container\">\n",
              "    <div>\n",
              "<style scoped>\n",
              "    .dataframe tbody tr th:only-of-type {\n",
              "        vertical-align: middle;\n",
              "    }\n",
              "\n",
              "    .dataframe tbody tr th {\n",
              "        vertical-align: top;\n",
              "    }\n",
              "\n",
              "    .dataframe thead th {\n",
              "        text-align: right;\n",
              "    }\n",
              "</style>\n",
              "<table border=\"1\" class=\"dataframe\">\n",
              "  <thead>\n",
              "    <tr style=\"text-align: right;\">\n",
              "      <th></th>\n",
              "      <th>condicao_via</th>\n",
              "    </tr>\n",
              "  </thead>\n",
              "  <tbody>\n",
              "    <tr>\n",
              "      <th>Seca</th>\n",
              "      <td>1774</td>\n",
              "    </tr>\n",
              "    <tr>\n",
              "      <th>Molhada</th>\n",
              "      <td>324</td>\n",
              "    </tr>\n",
              "    <tr>\n",
              "      <th>Oleosa</th>\n",
              "      <td>5</td>\n",
              "    </tr>\n",
              "  </tbody>\n",
              "</table>\n",
              "</div>\n",
              "    <div class=\"colab-df-buttons\">\n",
              "\n",
              "  <div class=\"colab-df-container\">\n",
              "    <button class=\"colab-df-convert\" onclick=\"convertToInteractive('df-4a463d0d-c7ed-4ca1-a9cd-2fad64641dd8')\"\n",
              "            title=\"Convert this dataframe to an interactive table.\"\n",
              "            style=\"display:none;\">\n",
              "\n",
              "  <svg xmlns=\"http://www.w3.org/2000/svg\" height=\"24px\" viewBox=\"0 -960 960 960\">\n",
              "    <path d=\"M120-120v-720h720v720H120Zm60-500h600v-160H180v160Zm220 220h160v-160H400v160Zm0 220h160v-160H400v160ZM180-400h160v-160H180v160Zm440 0h160v-160H620v160ZM180-180h160v-160H180v160Zm440 0h160v-160H620v160Z\"/>\n",
              "  </svg>\n",
              "    </button>\n",
              "\n",
              "  <style>\n",
              "    .colab-df-container {\n",
              "      display:flex;\n",
              "      gap: 12px;\n",
              "    }\n",
              "\n",
              "    .colab-df-convert {\n",
              "      background-color: #E8F0FE;\n",
              "      border: none;\n",
              "      border-radius: 50%;\n",
              "      cursor: pointer;\n",
              "      display: none;\n",
              "      fill: #1967D2;\n",
              "      height: 32px;\n",
              "      padding: 0 0 0 0;\n",
              "      width: 32px;\n",
              "    }\n",
              "\n",
              "    .colab-df-convert:hover {\n",
              "      background-color: #E2EBFA;\n",
              "      box-shadow: 0px 1px 2px rgba(60, 64, 67, 0.3), 0px 1px 3px 1px rgba(60, 64, 67, 0.15);\n",
              "      fill: #174EA6;\n",
              "    }\n",
              "\n",
              "    .colab-df-buttons div {\n",
              "      margin-bottom: 4px;\n",
              "    }\n",
              "\n",
              "    [theme=dark] .colab-df-convert {\n",
              "      background-color: #3B4455;\n",
              "      fill: #D2E3FC;\n",
              "    }\n",
              "\n",
              "    [theme=dark] .colab-df-convert:hover {\n",
              "      background-color: #434B5C;\n",
              "      box-shadow: 0px 1px 3px 1px rgba(0, 0, 0, 0.15);\n",
              "      filter: drop-shadow(0px 1px 2px rgba(0, 0, 0, 0.3));\n",
              "      fill: #FFFFFF;\n",
              "    }\n",
              "  </style>\n",
              "\n",
              "    <script>\n",
              "      const buttonEl =\n",
              "        document.querySelector('#df-4a463d0d-c7ed-4ca1-a9cd-2fad64641dd8 button.colab-df-convert');\n",
              "      buttonEl.style.display =\n",
              "        google.colab.kernel.accessAllowed ? 'block' : 'none';\n",
              "\n",
              "      async function convertToInteractive(key) {\n",
              "        const element = document.querySelector('#df-4a463d0d-c7ed-4ca1-a9cd-2fad64641dd8');\n",
              "        const dataTable =\n",
              "          await google.colab.kernel.invokeFunction('convertToInteractive',\n",
              "                                                    [key], {});\n",
              "        if (!dataTable) return;\n",
              "\n",
              "        const docLinkHtml = 'Like what you see? Visit the ' +\n",
              "          '<a target=\"_blank\" href=https://colab.research.google.com/notebooks/data_table.ipynb>data table notebook</a>'\n",
              "          + ' to learn more about interactive tables.';\n",
              "        element.innerHTML = '';\n",
              "        dataTable['output_type'] = 'display_data';\n",
              "        await google.colab.output.renderOutput(dataTable, element);\n",
              "        const docLink = document.createElement('div');\n",
              "        docLink.innerHTML = docLinkHtml;\n",
              "        element.appendChild(docLink);\n",
              "      }\n",
              "    </script>\n",
              "  </div>\n",
              "\n",
              "\n",
              "<div id=\"df-4db32bea-3d57-4a5a-9a46-83edd2e837f1\">\n",
              "  <button class=\"colab-df-quickchart\" onclick=\"quickchart('df-4db32bea-3d57-4a5a-9a46-83edd2e837f1')\"\n",
              "            title=\"Suggest charts.\"\n",
              "            style=\"display:none;\">\n",
              "\n",
              "<svg xmlns=\"http://www.w3.org/2000/svg\" height=\"24px\"viewBox=\"0 0 24 24\"\n",
              "     width=\"24px\">\n",
              "    <g>\n",
              "        <path d=\"M19 3H5c-1.1 0-2 .9-2 2v14c0 1.1.9 2 2 2h14c1.1 0 2-.9 2-2V5c0-1.1-.9-2-2-2zM9 17H7v-7h2v7zm4 0h-2V7h2v10zm4 0h-2v-4h2v4z\"/>\n",
              "    </g>\n",
              "</svg>\n",
              "  </button>\n",
              "\n",
              "<style>\n",
              "  .colab-df-quickchart {\n",
              "      --bg-color: #E8F0FE;\n",
              "      --fill-color: #1967D2;\n",
              "      --hover-bg-color: #E2EBFA;\n",
              "      --hover-fill-color: #174EA6;\n",
              "      --disabled-fill-color: #AAA;\n",
              "      --disabled-bg-color: #DDD;\n",
              "  }\n",
              "\n",
              "  [theme=dark] .colab-df-quickchart {\n",
              "      --bg-color: #3B4455;\n",
              "      --fill-color: #D2E3FC;\n",
              "      --hover-bg-color: #434B5C;\n",
              "      --hover-fill-color: #FFFFFF;\n",
              "      --disabled-bg-color: #3B4455;\n",
              "      --disabled-fill-color: #666;\n",
              "  }\n",
              "\n",
              "  .colab-df-quickchart {\n",
              "    background-color: var(--bg-color);\n",
              "    border: none;\n",
              "    border-radius: 50%;\n",
              "    cursor: pointer;\n",
              "    display: none;\n",
              "    fill: var(--fill-color);\n",
              "    height: 32px;\n",
              "    padding: 0;\n",
              "    width: 32px;\n",
              "  }\n",
              "\n",
              "  .colab-df-quickchart:hover {\n",
              "    background-color: var(--hover-bg-color);\n",
              "    box-shadow: 0 1px 2px rgba(60, 64, 67, 0.3), 0 1px 3px 1px rgba(60, 64, 67, 0.15);\n",
              "    fill: var(--button-hover-fill-color);\n",
              "  }\n",
              "\n",
              "  .colab-df-quickchart-complete:disabled,\n",
              "  .colab-df-quickchart-complete:disabled:hover {\n",
              "    background-color: var(--disabled-bg-color);\n",
              "    fill: var(--disabled-fill-color);\n",
              "    box-shadow: none;\n",
              "  }\n",
              "\n",
              "  .colab-df-spinner {\n",
              "    border: 2px solid var(--fill-color);\n",
              "    border-color: transparent;\n",
              "    border-bottom-color: var(--fill-color);\n",
              "    animation:\n",
              "      spin 1s steps(1) infinite;\n",
              "  }\n",
              "\n",
              "  @keyframes spin {\n",
              "    0% {\n",
              "      border-color: transparent;\n",
              "      border-bottom-color: var(--fill-color);\n",
              "      border-left-color: var(--fill-color);\n",
              "    }\n",
              "    20% {\n",
              "      border-color: transparent;\n",
              "      border-left-color: var(--fill-color);\n",
              "      border-top-color: var(--fill-color);\n",
              "    }\n",
              "    30% {\n",
              "      border-color: transparent;\n",
              "      border-left-color: var(--fill-color);\n",
              "      border-top-color: var(--fill-color);\n",
              "      border-right-color: var(--fill-color);\n",
              "    }\n",
              "    40% {\n",
              "      border-color: transparent;\n",
              "      border-right-color: var(--fill-color);\n",
              "      border-top-color: var(--fill-color);\n",
              "    }\n",
              "    60% {\n",
              "      border-color: transparent;\n",
              "      border-right-color: var(--fill-color);\n",
              "    }\n",
              "    80% {\n",
              "      border-color: transparent;\n",
              "      border-right-color: var(--fill-color);\n",
              "      border-bottom-color: var(--fill-color);\n",
              "    }\n",
              "    90% {\n",
              "      border-color: transparent;\n",
              "      border-bottom-color: var(--fill-color);\n",
              "    }\n",
              "  }\n",
              "</style>\n",
              "\n",
              "  <script>\n",
              "    async function quickchart(key) {\n",
              "      const quickchartButtonEl =\n",
              "        document.querySelector('#' + key + ' button');\n",
              "      quickchartButtonEl.disabled = true;  // To prevent multiple clicks.\n",
              "      quickchartButtonEl.classList.add('colab-df-spinner');\n",
              "      try {\n",
              "        const charts = await google.colab.kernel.invokeFunction(\n",
              "            'suggestCharts', [key], {});\n",
              "      } catch (error) {\n",
              "        console.error('Error during call to suggestCharts:', error);\n",
              "      }\n",
              "      quickchartButtonEl.classList.remove('colab-df-spinner');\n",
              "      quickchartButtonEl.classList.add('colab-df-quickchart-complete');\n",
              "    }\n",
              "    (() => {\n",
              "      let quickchartButtonEl =\n",
              "        document.querySelector('#df-4db32bea-3d57-4a5a-9a46-83edd2e837f1 button');\n",
              "      quickchartButtonEl.style.display =\n",
              "        google.colab.kernel.accessAllowed ? 'block' : 'none';\n",
              "    })();\n",
              "  </script>\n",
              "</div>\n",
              "    </div>\n",
              "  </div>\n"
            ],
            "text/plain": [
              "         condicao_via\n",
              "Seca             1774\n",
              "Molhada           324\n",
              "Oleosa              5"
            ]
          },
          "execution_count": 38,
          "metadata": {},
          "output_type": "execute_result"
        }
      ],
      "source": [
        "# Tabela para mostrar as condições das vias dos acidentes\n",
        "condicao_da_via = pd.DataFrame(dados.condicao_via.value_counts())\n",
        "condicao_da_via"
      ]
    },
    {
      "cell_type": "code",
      "execution_count": null,
      "metadata": {
        "colab": {
          "base_uri": "https://localhost:8080/",
          "height": 143
        },
        "id": "ErEerTnPG-fI",
        "outputId": "0292890d-47cf-4b7d-d3eb-89e14242300b"
      },
      "outputs": [
        {
          "data": {
            "text/html": [
              "\n",
              "  <div id=\"df-8af1b240-9538-40ac-84aa-47d19d5d779f\" class=\"colab-df-container\">\n",
              "    <div>\n",
              "<style scoped>\n",
              "    .dataframe tbody tr th:only-of-type {\n",
              "        vertical-align: middle;\n",
              "    }\n",
              "\n",
              "    .dataframe tbody tr th {\n",
              "        vertical-align: top;\n",
              "    }\n",
              "\n",
              "    .dataframe thead th {\n",
              "        text-align: right;\n",
              "    }\n",
              "</style>\n",
              "<table border=\"1\" class=\"dataframe\">\n",
              "  <thead>\n",
              "    <tr style=\"text-align: right;\">\n",
              "      <th></th>\n",
              "      <th>quantidade</th>\n",
              "    </tr>\n",
              "  </thead>\n",
              "  <tbody>\n",
              "    <tr>\n",
              "      <th>Seca</th>\n",
              "      <td>1774</td>\n",
              "    </tr>\n",
              "    <tr>\n",
              "      <th>Molhada</th>\n",
              "      <td>324</td>\n",
              "    </tr>\n",
              "    <tr>\n",
              "      <th>Oleosa</th>\n",
              "      <td>5</td>\n",
              "    </tr>\n",
              "  </tbody>\n",
              "</table>\n",
              "</div>\n",
              "    <div class=\"colab-df-buttons\">\n",
              "\n",
              "  <div class=\"colab-df-container\">\n",
              "    <button class=\"colab-df-convert\" onclick=\"convertToInteractive('df-8af1b240-9538-40ac-84aa-47d19d5d779f')\"\n",
              "            title=\"Convert this dataframe to an interactive table.\"\n",
              "            style=\"display:none;\">\n",
              "\n",
              "  <svg xmlns=\"http://www.w3.org/2000/svg\" height=\"24px\" viewBox=\"0 -960 960 960\">\n",
              "    <path d=\"M120-120v-720h720v720H120Zm60-500h600v-160H180v160Zm220 220h160v-160H400v160Zm0 220h160v-160H400v160ZM180-400h160v-160H180v160Zm440 0h160v-160H620v160ZM180-180h160v-160H180v160Zm440 0h160v-160H620v160Z\"/>\n",
              "  </svg>\n",
              "    </button>\n",
              "\n",
              "  <style>\n",
              "    .colab-df-container {\n",
              "      display:flex;\n",
              "      gap: 12px;\n",
              "    }\n",
              "\n",
              "    .colab-df-convert {\n",
              "      background-color: #E8F0FE;\n",
              "      border: none;\n",
              "      border-radius: 50%;\n",
              "      cursor: pointer;\n",
              "      display: none;\n",
              "      fill: #1967D2;\n",
              "      height: 32px;\n",
              "      padding: 0 0 0 0;\n",
              "      width: 32px;\n",
              "    }\n",
              "\n",
              "    .colab-df-convert:hover {\n",
              "      background-color: #E2EBFA;\n",
              "      box-shadow: 0px 1px 2px rgba(60, 64, 67, 0.3), 0px 1px 3px 1px rgba(60, 64, 67, 0.15);\n",
              "      fill: #174EA6;\n",
              "    }\n",
              "\n",
              "    .colab-df-buttons div {\n",
              "      margin-bottom: 4px;\n",
              "    }\n",
              "\n",
              "    [theme=dark] .colab-df-convert {\n",
              "      background-color: #3B4455;\n",
              "      fill: #D2E3FC;\n",
              "    }\n",
              "\n",
              "    [theme=dark] .colab-df-convert:hover {\n",
              "      background-color: #434B5C;\n",
              "      box-shadow: 0px 1px 3px 1px rgba(0, 0, 0, 0.15);\n",
              "      filter: drop-shadow(0px 1px 2px rgba(0, 0, 0, 0.3));\n",
              "      fill: #FFFFFF;\n",
              "    }\n",
              "  </style>\n",
              "\n",
              "    <script>\n",
              "      const buttonEl =\n",
              "        document.querySelector('#df-8af1b240-9538-40ac-84aa-47d19d5d779f button.colab-df-convert');\n",
              "      buttonEl.style.display =\n",
              "        google.colab.kernel.accessAllowed ? 'block' : 'none';\n",
              "\n",
              "      async function convertToInteractive(key) {\n",
              "        const element = document.querySelector('#df-8af1b240-9538-40ac-84aa-47d19d5d779f');\n",
              "        const dataTable =\n",
              "          await google.colab.kernel.invokeFunction('convertToInteractive',\n",
              "                                                    [key], {});\n",
              "        if (!dataTable) return;\n",
              "\n",
              "        const docLinkHtml = 'Like what you see? Visit the ' +\n",
              "          '<a target=\"_blank\" href=https://colab.research.google.com/notebooks/data_table.ipynb>data table notebook</a>'\n",
              "          + ' to learn more about interactive tables.';\n",
              "        element.innerHTML = '';\n",
              "        dataTable['output_type'] = 'display_data';\n",
              "        await google.colab.output.renderOutput(dataTable, element);\n",
              "        const docLink = document.createElement('div');\n",
              "        docLink.innerHTML = docLinkHtml;\n",
              "        element.appendChild(docLink);\n",
              "      }\n",
              "    </script>\n",
              "  </div>\n",
              "\n",
              "\n",
              "<div id=\"df-81ba251c-9f35-420a-8f41-a9bad2dc3247\">\n",
              "  <button class=\"colab-df-quickchart\" onclick=\"quickchart('df-81ba251c-9f35-420a-8f41-a9bad2dc3247')\"\n",
              "            title=\"Suggest charts.\"\n",
              "            style=\"display:none;\">\n",
              "\n",
              "<svg xmlns=\"http://www.w3.org/2000/svg\" height=\"24px\"viewBox=\"0 0 24 24\"\n",
              "     width=\"24px\">\n",
              "    <g>\n",
              "        <path d=\"M19 3H5c-1.1 0-2 .9-2 2v14c0 1.1.9 2 2 2h14c1.1 0 2-.9 2-2V5c0-1.1-.9-2-2-2zM9 17H7v-7h2v7zm4 0h-2V7h2v10zm4 0h-2v-4h2v4z\"/>\n",
              "    </g>\n",
              "</svg>\n",
              "  </button>\n",
              "\n",
              "<style>\n",
              "  .colab-df-quickchart {\n",
              "      --bg-color: #E8F0FE;\n",
              "      --fill-color: #1967D2;\n",
              "      --hover-bg-color: #E2EBFA;\n",
              "      --hover-fill-color: #174EA6;\n",
              "      --disabled-fill-color: #AAA;\n",
              "      --disabled-bg-color: #DDD;\n",
              "  }\n",
              "\n",
              "  [theme=dark] .colab-df-quickchart {\n",
              "      --bg-color: #3B4455;\n",
              "      --fill-color: #D2E3FC;\n",
              "      --hover-bg-color: #434B5C;\n",
              "      --hover-fill-color: #FFFFFF;\n",
              "      --disabled-bg-color: #3B4455;\n",
              "      --disabled-fill-color: #666;\n",
              "  }\n",
              "\n",
              "  .colab-df-quickchart {\n",
              "    background-color: var(--bg-color);\n",
              "    border: none;\n",
              "    border-radius: 50%;\n",
              "    cursor: pointer;\n",
              "    display: none;\n",
              "    fill: var(--fill-color);\n",
              "    height: 32px;\n",
              "    padding: 0;\n",
              "    width: 32px;\n",
              "  }\n",
              "\n",
              "  .colab-df-quickchart:hover {\n",
              "    background-color: var(--hover-bg-color);\n",
              "    box-shadow: 0 1px 2px rgba(60, 64, 67, 0.3), 0 1px 3px 1px rgba(60, 64, 67, 0.15);\n",
              "    fill: var(--button-hover-fill-color);\n",
              "  }\n",
              "\n",
              "  .colab-df-quickchart-complete:disabled,\n",
              "  .colab-df-quickchart-complete:disabled:hover {\n",
              "    background-color: var(--disabled-bg-color);\n",
              "    fill: var(--disabled-fill-color);\n",
              "    box-shadow: none;\n",
              "  }\n",
              "\n",
              "  .colab-df-spinner {\n",
              "    border: 2px solid var(--fill-color);\n",
              "    border-color: transparent;\n",
              "    border-bottom-color: var(--fill-color);\n",
              "    animation:\n",
              "      spin 1s steps(1) infinite;\n",
              "  }\n",
              "\n",
              "  @keyframes spin {\n",
              "    0% {\n",
              "      border-color: transparent;\n",
              "      border-bottom-color: var(--fill-color);\n",
              "      border-left-color: var(--fill-color);\n",
              "    }\n",
              "    20% {\n",
              "      border-color: transparent;\n",
              "      border-left-color: var(--fill-color);\n",
              "      border-top-color: var(--fill-color);\n",
              "    }\n",
              "    30% {\n",
              "      border-color: transparent;\n",
              "      border-left-color: var(--fill-color);\n",
              "      border-top-color: var(--fill-color);\n",
              "      border-right-color: var(--fill-color);\n",
              "    }\n",
              "    40% {\n",
              "      border-color: transparent;\n",
              "      border-right-color: var(--fill-color);\n",
              "      border-top-color: var(--fill-color);\n",
              "    }\n",
              "    60% {\n",
              "      border-color: transparent;\n",
              "      border-right-color: var(--fill-color);\n",
              "    }\n",
              "    80% {\n",
              "      border-color: transparent;\n",
              "      border-right-color: var(--fill-color);\n",
              "      border-bottom-color: var(--fill-color);\n",
              "    }\n",
              "    90% {\n",
              "      border-color: transparent;\n",
              "      border-bottom-color: var(--fill-color);\n",
              "    }\n",
              "  }\n",
              "</style>\n",
              "\n",
              "  <script>\n",
              "    async function quickchart(key) {\n",
              "      const quickchartButtonEl =\n",
              "        document.querySelector('#' + key + ' button');\n",
              "      quickchartButtonEl.disabled = true;  // To prevent multiple clicks.\n",
              "      quickchartButtonEl.classList.add('colab-df-spinner');\n",
              "      try {\n",
              "        const charts = await google.colab.kernel.invokeFunction(\n",
              "            'suggestCharts', [key], {});\n",
              "      } catch (error) {\n",
              "        console.error('Error during call to suggestCharts:', error);\n",
              "      }\n",
              "      quickchartButtonEl.classList.remove('colab-df-spinner');\n",
              "      quickchartButtonEl.classList.add('colab-df-quickchart-complete');\n",
              "    }\n",
              "    (() => {\n",
              "      let quickchartButtonEl =\n",
              "        document.querySelector('#df-81ba251c-9f35-420a-8f41-a9bad2dc3247 button');\n",
              "      quickchartButtonEl.style.display =\n",
              "        google.colab.kernel.accessAllowed ? 'block' : 'none';\n",
              "    })();\n",
              "  </script>\n",
              "</div>\n",
              "    </div>\n",
              "  </div>\n"
            ],
            "text/plain": [
              "         quantidade\n",
              "Seca           1774\n",
              "Molhada         324\n",
              "Oleosa            5"
            ]
          },
          "execution_count": 44,
          "metadata": {},
          "output_type": "execute_result"
        }
      ],
      "source": [
        "# Renomeando as colunas\n",
        "condicao_da_via.rename(columns={'condicao_via': 'quantidade'}, inplace=True)\n",
        "condicao_da_via.name = 'condicao_via'\n",
        "condicao_da_via"
      ]
    },
    {
      "cell_type": "markdown",
      "metadata": {
        "id": "8UpAeFZqJUwp"
      },
      "source": [
        "Com base nos dados fornecidos, é possível identificar padrões claros nas condições das vias em relação ao número de acidentes.\n",
        "Obs: Surpreendentemente, a via oleosa registrou um número extremamente baixo de acidentes, apenas 5. No entanto, é importante notar que a presença de condições oleosas na pista é relativamente rara, o que pode explicar essa baixa incidência. Mesmo assim, a ocorrência de acidentes em tais condições ressalta a importância de medidas de segurança específicas para enfrentar esse desafio.\n"
      ]
    },
    {
      "cell_type": "code",
      "execution_count": null,
      "metadata": {
        "colab": {
          "base_uri": "https://localhost:8080/",
          "height": 406
        },
        "id": "465pfrYtHKwi",
        "outputId": "84a15c5c-55a3-420a-f64f-1b70fcf8d98f"
      },
      "outputs": [
        {
          "data": {
            "image/png": "[encoded data removed]",
            "text/plain": [
              "<Figure size 640x480 with 1 Axes>"
            ]
          },
          "metadata": {},
          "output_type": "display_data"
        }
      ],
      "source": [
        "#Gráfico de pizza para mostrar as condições das vias dos acidentes\n",
        "plt.pie(condicao_da_via['quantidade'])\n",
        "plt.legend(condicao_da_via.index, bbox_to_anchor=(1, 1))\n",
        "plt.show()"
      ]
    },
    {
      "cell_type": "markdown",
      "metadata": {
        "id": "NbcmyxfN-Ld1"
      },
      "source": [
        "#### Analisando a natureza de cada evento"
      ]
    },
    {
      "cell_type": "code",
      "execution_count": null,
      "metadata": {
        "colab": {
          "base_uri": "https://localhost:8080/"
        },
        "id": "i-og3a3KKoIi",
        "outputId": "27b309e6-0b1e-44bc-bf5d-ff5a41abe2f6"
      },
      "outputs": [
        {
          "data": {
            "text/plain": [
              "COM VÍTIMA      2081\n",
              "SEM VÍTIMA       566\n",
              "VÍTIMA FATAL      22\n",
              "Name: natureza, dtype: int64"
            ]
          },
          "execution_count": 46,
          "metadata": {},
          "output_type": "execute_result"
        }
      ],
      "source": [
        "#Mostrar a se houve vítimas e fatalidade\n",
        "natureza_acidentes = dados['natureza'].value_counts()\n",
        "natureza_acidentes"
      ]
    },
    {
      "cell_type": "code",
      "execution_count": null,
      "metadata": {
        "colab": {
          "base_uri": "https://localhost:8080/"
        },
        "id": "FbBjklBJ-sTs",
        "outputId": "52dfdc80-1ddc-4859-d62b-058fcfe685cc"
      },
      "outputs": [
        {
          "data": {
            "text/plain": [
              "{'COM VÍTIMA': 77.97, 'SEM VÍTIMA': 21.21, 'VÍTIMA FATAL': 0.82}"
            ]
          },
          "execution_count": 47,
          "metadata": {},
          "output_type": "execute_result"
        }
      ],
      "source": [
        "# Frequência percentil de cada ponto de controle\n",
        "natureza_acidentes_perc = {}\n",
        "\n",
        "for k, v in natureza_acidentes.items():\n",
        "    percentual = v / len(dados_util)\n",
        "    natureza_acidentes_perc[k] = round(percentual*100, 2)\n",
        "\n",
        "natureza_acidentes_perc"
      ]
    },
    {
      "cell_type": "code",
      "execution_count": null,
      "metadata": {
        "colab": {
          "base_uri": "https://localhost:8080/",
          "height": 524
        },
        "id": "_xAQzoHiMRSP",
        "outputId": "7279a71c-653b-42d0-c0dc-b0349c5a78e7"
      },
      "outputs": [
        {
          "data": {
            "text/plain": [
              "<Axes: >"
            ]
          },
          "execution_count": 48,
          "metadata": {},
          "output_type": "execute_result"
        },
        {
          "data": {
            "image/png": "[encoded data removed]",
            "text/plain": [
              "<Figure size 640x480 with 1 Axes>"
            ]
          },
          "metadata": {},
          "output_type": "display_data"
        }
      ],
      "source": [
        "vitimas = dados.natureza.value_counts()\n",
        "vitimas.plot(kind = 'bar')"
      ]
    },
    {
      "cell_type": "markdown",
      "metadata": {
        "id": "XceE-UeLNWJ_"
      },
      "source": [
        "O gráfico que ilustra a natureza dos acidentes de trânsito revela informações cruciais. Em 2081 casos, houve acidentes com vítimas, enfatizando a necessidade de medidas de segurança eficazes. Por outro lado, 566 acidentes ocorreram sem vítimas, refletindo uma situação mais controlada. Os 22 acidentes com vítima fatal são um lembrete trágico da importância da segurança no trânsito e da necessidade contínua de prevenção e conscientização."
      ]
    },
    {
      "cell_type": "markdown",
      "metadata": {
        "id": "q739kKMj-EH4"
      },
      "source": [
        "## Conclusões"
      ]
    },
    {
      "cell_type": "markdown",
      "metadata": {
        "id": "gG3wPcCg-GP9"
      },
      "source": [
        "A partir dessa breve análise estatística podemos ver que o bairro de Boa Viagem é o local onde mais ocorrem acidentes de trânsito, apresentando 301 doas 2669 acidentes registrados em nossa base. Outros dois fatores que podemos notar é que a grande maioria dos acidentes aqui registrados ocorreram com o clima bom, uma sinalização em perfeito estado e a via estando seca. Vale ressaltar que em cerca de 44% dos acidentes ocorreram em locais em que não há pontos de controle.\n",
        "\n",
        "Enquanto motoristas, devemos estar sempre atentos ao trânsito e a via que estamos percorrendo. Em quase 78% dos acidentes houve alguma vítima.\n",
        "\n",
        "Esses dados destacam a necessidade de atenção e precaução especial por parte dos motoristas em condições adversas, como vias molhadas ou oleosas, e a importância de implementar medidas de segurança adicionais, como sinalização apropriada e políticas de manutenção de vias, para reduzir ainda mais o número de acidentes e promover um tráfego mais seguro."
      ]
    }
  ],
  "metadata": {
    "colab": {
      "provenance": []
    },
    "kernelspec": {
      "display_name": "Python 3",
      "name": "python3"
    },
    "language_info": {
      "name": "python"
    }
  },
  "nbformat": 4,
  "nbformat_minor": 0
}
